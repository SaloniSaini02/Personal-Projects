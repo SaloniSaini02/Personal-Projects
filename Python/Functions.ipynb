{
 "cells": [
  {
   "cell_type": "markdown",
   "id": "9d791bf2",
   "metadata": {},
   "source": [
    "## Functions are First class objects in Python\n",
    "\n",
    "What does this statement mean? Function is an object in Python just like strings, lists etc and because it is an object you can assign it to a variable. "
   ]
  },
  {
   "cell_type": "code",
   "execution_count": 2,
   "id": "6e324f38",
   "metadata": {},
   "outputs": [
    {
     "name": "stdout",
     "output_type": "stream",
     "text": [
      "Hi Sam!\n",
      "Hi Sam!\n"
     ]
    }
   ],
   "source": [
    "def func1(name):\n",
    "    return \"Hi \" + name + \"!\"\n",
    "\n",
    "obj = func1 #assigning function object to name obj\n",
    "print(func1(\"Sam\"))\n",
    "print(obj(\"Sam\"))"
   ]
  },
  {
   "cell_type": "markdown",
   "id": "3a210a7d",
   "metadata": {},
   "source": [
    "Func1 points to function func1() and now obj also points to func1(). So if u delete func1 then you can no longer call func1() but obj() will return the same value"
   ]
  },
  {
   "cell_type": "code",
   "execution_count": 4,
   "id": "240133c1",
   "metadata": {},
   "outputs": [
    {
     "ename": "NameError",
     "evalue": "name 'func1' is not defined",
     "output_type": "error",
     "traceback": [
      "\u001b[0;31m---------------------------------------------------------------------------\u001b[0m",
      "\u001b[0;31mNameError\u001b[0m                                 Traceback (most recent call last)",
      "Input \u001b[0;32mIn [4]\u001b[0m, in \u001b[0;36m<cell line: 1>\u001b[0;34m()\u001b[0m\n\u001b[0;32m----> 1\u001b[0m \u001b[38;5;28;01mdel\u001b[39;00m func1\n\u001b[1;32m      2\u001b[0m \u001b[38;5;28mprint\u001b[39m(func1(\u001b[38;5;124m\"\u001b[39m\u001b[38;5;124mSam\u001b[39m\u001b[38;5;124m\"\u001b[39m))\n",
      "\u001b[0;31mNameError\u001b[0m: name 'func1' is not defined"
     ]
    }
   ],
   "source": [
    "del func1\n",
    "print(func1(\"Sam\"))"
   ]
  },
  {
   "cell_type": "code",
   "execution_count": 5,
   "id": "6729ab0e",
   "metadata": {},
   "outputs": [
    {
     "name": "stdout",
     "output_type": "stream",
     "text": [
      "Hi Sam!\n"
     ]
    }
   ],
   "source": [
    "print(obj(\"Sam\"))"
   ]
  },
  {
   "cell_type": "markdown",
   "id": "6c887b9d",
   "metadata": {},
   "source": [
    "Function can also be stored in a DS like a list"
   ]
  },
  {
   "cell_type": "code",
   "execution_count": 10,
   "id": "1c52d770",
   "metadata": {},
   "outputs": [
    {
     "data": {
      "text/plain": [
       "'inolaS'"
      ]
     },
     "execution_count": 10,
     "metadata": {},
     "output_type": "execute_result"
    }
   ],
   "source": [
    "li = [lambda x: x [::-1] , lambda x: sorted(x)]\n",
    "li[0](\"Saloni\")"
   ]
  },
  {
   "cell_type": "code",
   "execution_count": 11,
   "id": "434f6aa2",
   "metadata": {},
   "outputs": [
    {
     "data": {
      "text/plain": [
       "['S', 'a', 'i', 'l', 'n', 'o']"
      ]
     },
     "execution_count": 11,
     "metadata": {},
     "output_type": "execute_result"
    }
   ],
   "source": [
    "li[1](\"Saloni\")"
   ]
  },
  {
   "cell_type": "markdown",
   "id": "d8ceb24d",
   "metadata": {},
   "source": [
    "Function can not only accept behaviours but also return behaviours i.e it takes a function as an argument and can return a function. A function that accepts another function is called a higher order function and a function that is defined inside another function is called a nested/inner function"
   ]
  },
  {
   "cell_type": "code",
   "execution_count": 17,
   "id": "bfa93191",
   "metadata": {},
   "outputs": [
    {
     "name": "stdout",
     "output_type": "stream",
     "text": [
      "11\n",
      "-1\n",
      "30\n"
     ]
    }
   ],
   "source": [
    "def operation(func):\n",
    "    \n",
    "    return func(5,6)\n",
    "\n",
    "print(operation(lambda x,y: x+y))\n",
    "print(operation(lambda x,y: x-y))\n",
    "print(operation(lambda x,y: x*y))"
   ]
  },
  {
   "cell_type": "code",
   "execution_count": 20,
   "id": "0d9f537c",
   "metadata": {},
   "outputs": [
    {
     "name": "stdout",
     "output_type": "stream",
     "text": [
      "4000\n",
      "2000\n"
     ]
    }
   ],
   "source": [
    "def employed(status):\n",
    "    def increase_limit(curr):\n",
    "        return curr*2\n",
    "    def same_limit(curr):\n",
    "        return curr\n",
    "    if status:\n",
    "        return increase_limit\n",
    "    else:\n",
    "        return same_limit\n",
    "print(employed(True)(2000))\n",
    "print(employed(False)(2000))"
   ]
  },
  {
   "cell_type": "markdown",
   "id": "cfc7e7bc",
   "metadata": {},
   "source": [
    "Functions can be nested and they can capture and carry some of the parent function’s state with them. Functions that do this are called closures.\n",
    "Objects can be made callable which allows you to treat them like functions in many cases.How to make an object calllable? \n",
    "\n",
    "Python’s built-in callable(object) returns True if you could call the object argument like a function with the trailing parentheses in object(). You can make any object callable by implementing the instance’s __call__() method. For example, callable(callable) returns True because callable is a function object. But callable(3) returns False because an integer is not a function you can call."
   ]
  },
  {
   "cell_type": "code",
   "execution_count": 21,
   "id": "4cd569bc",
   "metadata": {},
   "outputs": [
    {
     "data": {
      "text/plain": [
       "7"
      ]
     },
     "execution_count": 21,
     "metadata": {},
     "output_type": "execute_result"
    }
   ],
   "source": [
    "class Adder:\n",
    "    def __init__(self, n):\n",
    "         self.n = n\n",
    "    def __call__(self, x):\n",
    "        return self.n + x\n",
    "\n",
    "plus_3 = Adder(3)\n",
    "plus_3(4)"
   ]
  },
  {
   "cell_type": "code",
   "execution_count": 22,
   "id": "5ffc9720",
   "metadata": {},
   "outputs": [
    {
     "data": {
      "text/plain": [
       "True"
      ]
     },
     "execution_count": 22,
     "metadata": {},
     "output_type": "execute_result"
    }
   ],
   "source": [
    "callable(plus_3)"
   ]
  },
  {
   "cell_type": "code",
   "execution_count": null,
   "id": "a9620e86",
   "metadata": {},
   "outputs": [],
   "source": []
  }
 ],
 "metadata": {
  "kernelspec": {
   "display_name": "Python 3 (ipykernel)",
   "language": "python",
   "name": "python3"
  },
  "language_info": {
   "codemirror_mode": {
    "name": "ipython",
    "version": 3
   },
   "file_extension": ".py",
   "mimetype": "text/x-python",
   "name": "python",
   "nbconvert_exporter": "python",
   "pygments_lexer": "ipython3",
   "version": "3.9.12"
  }
 },
 "nbformat": 4,
 "nbformat_minor": 5
}
