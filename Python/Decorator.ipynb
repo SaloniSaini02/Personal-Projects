{
 "cells": [
  {
   "cell_type": "markdown",
   "id": "041bf931",
   "metadata": {},
   "source": [
    "## Decorators\n",
    "\n",
    "A decorator decorates a function that is it adds to it's behaviour without explicitly modifying it. \n",
    "\n",
    "For example: "
   ]
  },
  {
   "cell_type": "code",
   "execution_count": 2,
   "id": "16ac788d",
   "metadata": {},
   "outputs": [
    {
     "name": "stdout",
     "output_type": "stream",
     "text": [
      "Task 14 is deployed\n",
      "Environment: Dev\n"
     ]
    }
   ],
   "source": [
    "def show_and_tell():\n",
    "    \n",
    "    print(\"Task 14 is deployed\")\n",
    "    \n",
    "def add_environment(func, env):\n",
    "    def wrapper():\n",
    "        if env == 'dev':\n",
    "            func()\n",
    "            print(\"Environment: Dev\")\n",
    "        else:\n",
    "            func()\n",
    "            print(\"Environment: Beta\")\n",
    "    \n",
    "    return wrapper\n",
    "\n",
    "show_and_tell = add_environment(show_and_tell, 'dev')\n",
    "show_and_tell()"
   ]
  },
  {
   "cell_type": "markdown",
   "id": "daac0752",
   "metadata": {},
   "source": [
    "### Basic syntax for a decorator:"
   ]
  },
  {
   "cell_type": "code",
   "execution_count": 3,
   "id": "f9006cc4",
   "metadata": {},
   "outputs": [],
   "source": [
    "def my_decorator(func):\n",
    "    def wrapper():\n",
    "        print(\"Something is happening before the function is called.\")\n",
    "        func()\n",
    "        print(\"Something is happening after the function is called.\")\n",
    "    return wrapper\n",
    "\n",
    "@my_decorator\n",
    "def say_whee():\n",
    "    print(\"Whee!\")"
   ]
  },
  {
   "cell_type": "code",
   "execution_count": 4,
   "id": "966eeb9f",
   "metadata": {},
   "outputs": [
    {
     "name": "stdout",
     "output_type": "stream",
     "text": [
      "Something is happening before the function is called.\n",
      "Whee!\n",
      "Something is happening after the function is called.\n"
     ]
    }
   ],
   "source": [
    "say_whee()"
   ]
  },
  {
   "cell_type": "markdown",
   "id": "d37a68d9",
   "metadata": {},
   "source": [
    "A decorator can be reused to decorate multiple functions. So how to implement decorators that wrap functions with multiple number of arguments???"
   ]
  },
  {
   "cell_type": "code",
   "execution_count": 9,
   "id": "0edaf9b8",
   "metadata": {},
   "outputs": [],
   "source": [
    "def do_twice(func):\n",
    "    def wrapper_do_twice(*args, **kwargs):\n",
    "        func(*args, **kwargs)\n",
    "        func(*args, **kwargs)\n",
    "    return wrapper_do_twice"
   ]
  },
  {
   "cell_type": "code",
   "execution_count": 10,
   "id": "90c3bb7b",
   "metadata": {},
   "outputs": [
    {
     "name": "stdout",
     "output_type": "stream",
     "text": [
      "Hi Sam\n",
      "Hi Sam\n"
     ]
    }
   ],
   "source": [
    "@do_twice\n",
    "def print_inpt(inp):\n",
    "    print(f\"Hi {inp}\")\n",
    "    \n",
    "@do_twice\n",
    "def add(a,b):\n",
    "    print(a+b)\n",
    "print_inpt(\"Sam\")"
   ]
  },
  {
   "cell_type": "code",
   "execution_count": 11,
   "id": "9f63ddb9",
   "metadata": {},
   "outputs": [
    {
     "name": "stdout",
     "output_type": "stream",
     "text": [
      "15\n",
      "15\n"
     ]
    }
   ],
   "source": [
    "add(5,10)"
   ]
  },
  {
   "cell_type": "markdown",
   "id": "1e72d6d1",
   "metadata": {},
   "source": [
    "Another important point to note is that just like the decorator is updated to allow arguments to a function similarly the decorator needs to be updated to return values as well i.e you need to make sure the wrapper function returns the return value of the decorated function. "
   ]
  },
  {
   "cell_type": "code",
   "execution_count": 12,
   "id": "64cbf9c8",
   "metadata": {},
   "outputs": [],
   "source": [
    "def do_twice(func):\n",
    "    def wrapper_do_twice(*args, **kwargs):\n",
    "        func(*args, **kwargs)\n",
    "        return func(*args, **kwargs)\n",
    "    return wrapper_do_twice"
   ]
  },
  {
   "cell_type": "code",
   "execution_count": null,
   "id": "9df47a0d",
   "metadata": {},
   "outputs": [],
   "source": [
    "import functools\n",
    "\n",
    "def decorator(func):\n",
    "    @functools.wraps(func)\n",
    "    def wrapper_decorator(*args, **kwargs):\n",
    "        # Do something before\n",
    "        value = func(*args, **kwargs)\n",
    "        # Do something after\n",
    "        return value\n",
    "    return wrapper_decorator\n",
    "\n"
   ]
  },
  {
   "cell_type": "code",
   "execution_count": 4,
   "id": "fb041b52",
   "metadata": {},
   "outputs": [
    {
     "name": "stdout",
     "output_type": "stream",
     "text": [
      "CALLING: factorial(5)\n",
      "CALLING: factorial(4)\n",
      "CALLING: factorial(3)\n",
      "CALLING: factorial(2)\n",
      "CALLING: factorial(1)\n",
      "factorial(1) RETURNS 1\n",
      "factorial(2) RETURNS 2\n",
      "factorial(3) RETURNS 6\n",
      "factorial(4) RETURNS 24\n",
      "factorial(5) RETURNS 120\n"
     ]
    },
    {
     "data": {
      "text/plain": [
       "120"
      ]
     },
     "execution_count": 4,
     "metadata": {},
     "output_type": "execute_result"
    }
   ],
   "source": [
    "import functools\n",
    "\n",
    "\n",
    "def call_stack(func):\n",
    "    @functools.wraps(func)\n",
    "    def wrapper_call_stack(*args, **kwargs):\n",
    "        \n",
    "        print(f\"CALLING: {func.__name__}({args[0]})\")\n",
    "        value = func(*args, **kwargs)\n",
    "        print(f\"{func.__name__}({args[0]}) RETURNS {value}\")\n",
    "        \n",
    "        return value\n",
    "    return wrapper_call_stack\n",
    "\n",
    "@call_stack\n",
    "def factorial(num):\n",
    "    \n",
    "    if num == 1:\n",
    "        return 1\n",
    "    else:\n",
    "        return num*factorial(num-1)\n",
    "        \n",
    "\n",
    "factorial(5)"
   ]
  },
  {
   "cell_type": "markdown",
   "id": "4e1982c3",
   "metadata": {},
   "source": [
    "### Decorators in Classes\n",
    "\n",
    "1. Use inbuilt/imported decorators for class methods\n",
    "2. Use decorators for whole class"
   ]
  },
  {
   "cell_type": "code",
   "execution_count": 4,
   "id": "a6fd00a7",
   "metadata": {},
   "outputs": [
    {
     "name": "stdout",
     "output_type": "stream",
     "text": [
      "Turn off the fan\n"
     ]
    }
   ],
   "source": [
    "class Fan:\n",
    "    \n",
    "    def __init__(self, speed):\n",
    "        self._speed = speed\n",
    "        \n",
    "    @property\n",
    "    def state(self):\n",
    "        if self._speed > 0:\n",
    "            return True\n",
    "        else:\n",
    "            return False\n",
    "        \n",
    "    @staticmethod\n",
    "    def command():\n",
    "        print(\"Turn off the fan\")\n",
    "        \n",
    "    def switch_off(self):\n",
    "        \n",
    "        if self.state:\n",
    "            self.command()\n",
    "            self._speed = 0\n",
    "        else:\n",
    "            print(\"Fan is off\")\n",
    "            \n",
    "f = Fan(5)          \n",
    "f.switch_off()"
   ]
  },
  {
   "cell_type": "code",
   "execution_count": 5,
   "id": "101d5060",
   "metadata": {},
   "outputs": [
    {
     "name": "stdout",
     "output_type": "stream",
     "text": [
      "Fan is off\n"
     ]
    }
   ],
   "source": [
    "f.switch_off()"
   ]
  },
  {
   "cell_type": "code",
   "execution_count": 6,
   "id": "5bb364f2",
   "metadata": {},
   "outputs": [],
   "source": [
    "from dataclasses import dataclass\n",
    "\n",
    "@dataclass\n",
    "class PlayingCard:\n",
    "    rank: str\n",
    "    suit: str"
   ]
  },
  {
   "cell_type": "markdown",
   "id": "4ed70955",
   "metadata": {},
   "source": [
    "### Nesting Decorators\n",
    "\n",
    "Decorators are applied in the order in which they appear. For example:"
   ]
  },
  {
   "cell_type": "code",
   "execution_count": null,
   "id": "f4796d93",
   "metadata": {},
   "outputs": [],
   "source": []
  }
 ],
 "metadata": {
  "kernelspec": {
   "display_name": "Python 3 (ipykernel)",
   "language": "python",
   "name": "python3"
  },
  "language_info": {
   "codemirror_mode": {
    "name": "ipython",
    "version": 3
   },
   "file_extension": ".py",
   "mimetype": "text/x-python",
   "name": "python",
   "nbconvert_exporter": "python",
   "pygments_lexer": "ipython3",
   "version": "3.9.12"
  }
 },
 "nbformat": 4,
 "nbformat_minor": 5
}
