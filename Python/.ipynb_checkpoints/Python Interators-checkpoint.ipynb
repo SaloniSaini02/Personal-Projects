{
 "cells": [
  {
   "cell_type": "markdown",
   "id": "2bbf8866",
   "metadata": {},
   "source": [
    "#### Itertools is a Python library provided by Python for efficient looping\n",
    "\n",
    "### Infinite Iterators"
   ]
  },
  {
   "cell_type": "code",
   "execution_count": 1,
   "id": "ac3f1d72",
   "metadata": {},
   "outputs": [],
   "source": [
    "from itertools import count, cycle, repeat"
   ]
  },
  {
   "cell_type": "code",
   "execution_count": 3,
   "id": "4bf9d91c",
   "metadata": {},
   "outputs": [
    {
     "name": "stdout",
     "output_type": "stream",
     "text": [
      "5\n",
      "7\n",
      "9\n",
      "11\n"
     ]
    }
   ],
   "source": [
    "iterator_count = count(5, 2)\n",
    "\n",
    "for i_next in iterator_count:  \n",
    "    \n",
    "    print(i_next)\n",
    "    if i_next == 11:\n",
    "        break"
   ]
  },
  {
   "cell_type": "code",
   "execution_count": 5,
   "id": "96c58448",
   "metadata": {},
   "outputs": [],
   "source": [
    "iterator_cycle = cycle([\"A\", \"B\", \"C\"])"
   ]
  },
  {
   "cell_type": "code",
   "execution_count": 6,
   "id": "4cc5749e",
   "metadata": {},
   "outputs": [
    {
     "data": {
      "text/plain": [
       "'A'"
      ]
     },
     "execution_count": 6,
     "metadata": {},
     "output_type": "execute_result"
    }
   ],
   "source": [
    "next(iterator_cycle)"
   ]
  },
  {
   "cell_type": "code",
   "execution_count": 7,
   "id": "e3e7a5de",
   "metadata": {},
   "outputs": [
    {
     "data": {
      "text/plain": [
       "'B'"
      ]
     },
     "execution_count": 7,
     "metadata": {},
     "output_type": "execute_result"
    }
   ],
   "source": [
    "next(iterator_cycle)"
   ]
  },
  {
   "cell_type": "code",
   "execution_count": 8,
   "id": "95e0d8a2",
   "metadata": {},
   "outputs": [
    {
     "data": {
      "text/plain": [
       "'C'"
      ]
     },
     "execution_count": 8,
     "metadata": {},
     "output_type": "execute_result"
    }
   ],
   "source": [
    "next(iterator_cycle)"
   ]
  },
  {
   "cell_type": "code",
   "execution_count": 9,
   "id": "ef271cd1",
   "metadata": {},
   "outputs": [
    {
     "data": {
      "text/plain": [
       "'A'"
      ]
     },
     "execution_count": 9,
     "metadata": {},
     "output_type": "execute_result"
    }
   ],
   "source": [
    "next(iterator_cycle)"
   ]
  },
  {
   "cell_type": "code",
   "execution_count": 12,
   "id": "8d6bd711",
   "metadata": {},
   "outputs": [],
   "source": [
    "iterator_repeat = repeat(\"My Name is Saloni\", 3)"
   ]
  },
  {
   "cell_type": "code",
   "execution_count": 13,
   "id": "1b2cd85c",
   "metadata": {},
   "outputs": [
    {
     "name": "stdout",
     "output_type": "stream",
     "text": [
      "My Name is Saloni\n",
      "My Name is Saloni\n",
      "My Name is Saloni\n"
     ]
    },
    {
     "ename": "StopIteration",
     "evalue": "",
     "output_type": "error",
     "traceback": [
      "\u001b[0;31m---------------------------------------------------------------------------\u001b[0m",
      "\u001b[0;31mStopIteration\u001b[0m                             Traceback (most recent call last)",
      "Input \u001b[0;32mIn [13]\u001b[0m, in \u001b[0;36m<cell line: 1>\u001b[0;34m()\u001b[0m\n\u001b[1;32m      1\u001b[0m \u001b[38;5;28;01mfor\u001b[39;00m i_repeat \u001b[38;5;129;01min\u001b[39;00m \u001b[38;5;28mrange\u001b[39m(\u001b[38;5;241m4\u001b[39m):\n\u001b[0;32m----> 2\u001b[0m     \u001b[38;5;28mprint\u001b[39m(\u001b[38;5;28;43mnext\u001b[39;49m\u001b[43m(\u001b[49m\u001b[43miterator_repeat\u001b[49m\u001b[43m)\u001b[49m)\n",
      "\u001b[0;31mStopIteration\u001b[0m: "
     ]
    }
   ],
   "source": [
    "for i_repeat in range(4):\n",
    "    print(next(iterator_repeat))"
   ]
  },
  {
   "cell_type": "markdown",
   "id": "c4a05afa",
   "metadata": {},
   "source": [
    "### Finite Iterators"
   ]
  },
  {
   "cell_type": "code",
   "execution_count": 15,
   "id": "90e155e4",
   "metadata": {},
   "outputs": [],
   "source": [
    "from itertools import chain, accumulate, compress\n",
    "import operator"
   ]
  },
  {
   "cell_type": "code",
   "execution_count": 17,
   "id": "5ab6905c",
   "metadata": {},
   "outputs": [
    {
     "name": "stdout",
     "output_type": "stream",
     "text": [
      "['A', 'B', 2, 3, 4]\n"
     ]
    }
   ],
   "source": [
    "iterator_chain = chain([\"A\", \"B\"], [2,3,4], [])\n",
    "print(list(iterator_chain))"
   ]
  },
  {
   "cell_type": "code",
   "execution_count": 23,
   "id": "0b9259c5",
   "metadata": {},
   "outputs": [
    {
     "name": "stdout",
     "output_type": "stream",
     "text": [
      "[1, 2, 6, 24, 120, 720]\n"
     ]
    }
   ],
   "source": [
    "#Factorial of a number - 6\n",
    "iterator_acc = accumulate(range(1, 7), operator.mul)\n",
    "print(list(iterator_acc))"
   ]
  },
  {
   "cell_type": "code",
   "execution_count": 24,
   "id": "74718e83",
   "metadata": {},
   "outputs": [
    {
     "name": "stdout",
     "output_type": "stream",
     "text": [
      "['History', 'Science']\n"
     ]
    }
   ],
   "source": [
    "iterator_comp = compress([\"History\", \"Geography\", \"Science\"], [72 > 50, 34 > 50, 89>50])\n",
    "print(list(iterator_comp))"
   ]
  },
  {
   "cell_type": "code",
   "execution_count": 25,
   "id": "3f33f1ad",
   "metadata": {},
   "outputs": [],
   "source": [
    "from itertools import groupby"
   ]
  },
  {
   "cell_type": "code",
   "execution_count": 32,
   "id": "4779f193",
   "metadata": {},
   "outputs": [
    {
     "name": "stdout",
     "output_type": "stream",
     "text": [
      "A\n",
      "L\n",
      "K\n",
      "K\n",
      "M\n",
      "M\n",
      "M\n",
      "P\n",
      "P\n",
      "Y\n"
     ]
    }
   ],
   "source": [
    "sorted_list = [\"A\", \"L\", \"K\", \"K\", \"M\", \"M\", \"M\", \"P\", \"P\", \"Y\"]\n",
    "for key, group in groupby(sorted_list):\n",
    "    for val in group:\n",
    "        print(val)"
   ]
  },
  {
   "cell_type": "code",
   "execution_count": 36,
   "id": "b295109a",
   "metadata": {},
   "outputs": [
    {
     "name": "stdout",
     "output_type": "stream",
     "text": [
      "A\n",
      "L\n",
      "O\n"
     ]
    }
   ],
   "source": [
    "from itertools import islice\n",
    "for i in islice(\"SALONI\", 1,4):\n",
    "    print(i)"
   ]
  },
  {
   "cell_type": "markdown",
   "id": "d2e7f078",
   "metadata": {},
   "source": [
    "### Combinators"
   ]
  },
  {
   "cell_type": "code",
   "execution_count": 37,
   "id": "77f4523d",
   "metadata": {},
   "outputs": [
    {
     "name": "stdout",
     "output_type": "stream",
     "text": [
      "[('Callie', 'Mary'), ('Callie', 'Fiona'), ('Callie', 'Elizabeth'), ('Callie', 'Kate'), ('Mary', 'Fiona'), ('Mary', 'Elizabeth'), ('Mary', 'Kate'), ('Fiona', 'Elizabeth'), ('Fiona', 'Kate'), ('Elizabeth', 'Kate')]\n"
     ]
    }
   ],
   "source": [
    "from itertools import combinations, permutations\n",
    "friends = [\"Callie\", \"Mary\", \"Fiona\", \"Elizabeth\", \"Kate\"]\n",
    "print(list(combinations(friends,2)))"
   ]
  },
  {
   "cell_type": "code",
   "execution_count": 38,
   "id": "fccf1455",
   "metadata": {},
   "outputs": [
    {
     "name": "stdout",
     "output_type": "stream",
     "text": [
      "[('Callie', 'Mary'), ('Callie', 'Fiona'), ('Callie', 'Elizabeth'), ('Callie', 'Kate'), ('Mary', 'Callie'), ('Mary', 'Fiona'), ('Mary', 'Elizabeth'), ('Mary', 'Kate'), ('Fiona', 'Callie'), ('Fiona', 'Mary'), ('Fiona', 'Elizabeth'), ('Fiona', 'Kate'), ('Elizabeth', 'Callie'), ('Elizabeth', 'Mary'), ('Elizabeth', 'Fiona'), ('Elizabeth', 'Kate'), ('Kate', 'Callie'), ('Kate', 'Mary'), ('Kate', 'Fiona'), ('Kate', 'Elizabeth')]\n"
     ]
    }
   ],
   "source": [
    "print(list(permutations(friends,2)))"
   ]
  },
  {
   "cell_type": "code",
   "execution_count": null,
   "id": "0614caec",
   "metadata": {},
   "outputs": [],
   "source": []
  }
 ],
 "metadata": {
  "kernelspec": {
   "display_name": "Python 3 (ipykernel)",
   "language": "python",
   "name": "python3"
  },
  "language_info": {
   "codemirror_mode": {
    "name": "ipython",
    "version": 3
   },
   "file_extension": ".py",
   "mimetype": "text/x-python",
   "name": "python",
   "nbconvert_exporter": "python",
   "pygments_lexer": "ipython3",
   "version": "3.9.12"
  }
 },
 "nbformat": 4,
 "nbformat_minor": 5
}
