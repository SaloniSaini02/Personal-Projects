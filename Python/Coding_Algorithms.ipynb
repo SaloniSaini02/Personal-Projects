{
 "cells": [
  {
   "cell_type": "markdown",
   "id": "424aa842",
   "metadata": {},
   "source": [
    "### Depth First Search DFS\n",
    "\n",
    "This is a tree traversal alorigthm:\n",
    "\n",
    "Pick any node. If it is unvisited, mark it as visited and recur on all its adjacent nodes.\n",
    "Repeat until all the nodes are visited, or the node to be searched is found."
   ]
  },
  {
   "cell_type": "code",
   "execution_count": 1,
   "id": "62219066",
   "metadata": {},
   "outputs": [
    {
     "name": "stdout",
     "output_type": "stream",
     "text": [
      "A\n",
      "B\n",
      "D\n",
      "E\n",
      "F\n",
      "C\n"
     ]
    }
   ],
   "source": [
    "# Using a Python dictionary to act as an adjacency list\n",
    "graph = {\n",
    "    'A' : ['B','C'],\n",
    "    'B' : ['D', 'E'],\n",
    "    'C' : ['F'],\n",
    "    'D' : [],\n",
    "    'E' : ['F'],\n",
    "    'F' : []\n",
    "}\n",
    "\n",
    "visited = set() # Set to keep track of visited nodes.\n",
    "\n",
    "def dfs(visited, graph, node):\n",
    "    if node not in visited:\n",
    "        print (node)\n",
    "        visited.add(node)\n",
    "        for neighbour in graph[node]:\n",
    "            dfs(visited, graph, neighbour)\n",
    "\n",
    "# Driver Code\n",
    "dfs(visited, graph, 'A')"
   ]
  },
  {
   "cell_type": "markdown",
   "id": "bad33dca",
   "metadata": {},
   "source": [
    "Since all the nodes and vertices are visited, the average time complexity for DFS on a graph is O(V + E)\n",
    "O(V+E), where Vis the number of vertices and E is the number of edges. In case of DFS on a tree, the time complexity is O(V), where V is the number of nodes."
   ]
  },
  {
   "cell_type": "markdown",
   "id": "342019f4",
   "metadata": {},
   "source": [
    "### Preorder traversal\n",
    "For traversing a (non-empty) binary tree in a preorder fashion, we must do these three things for every node n starting from the tree’s root:\n",
    "\n",
    "(N) Process n itself.\n",
    "(L) Recursively traverse its left subtree. When this step is finished, we are back at n again.\n",
    "(R) Recursively traverse its right subtree. When this step is finished, we are back at n again."
   ]
  },
  {
   "cell_type": "code",
   "execution_count": 2,
   "id": "1d24ce08",
   "metadata": {},
   "outputs": [],
   "source": [
    "# Data structure to store a binary tree node\n",
    "class Node:\n",
    "    def __init__(self, data=None, left=None, right=None):\n",
    "        self.data = data\n",
    "        self.left = left\n",
    "        self.right = right\n",
    " \n",
    " \n",
    "# Recursive function to perform preorder traversal on the tree\n",
    "def preorder(root):\n",
    " \n",
    "    # return if the current node is empty\n",
    "    if root is None:\n",
    "        return\n",
    " \n",
    "    # Display the data part of the root (or current node)\n",
    "    print(root.data, end=' ')\n",
    " \n",
    "    # Traverse the left subtree\n",
    "    preorder(root.left)\n",
    " \n",
    "    # Traverse the right subtree\n",
    "    preorder(root.right)"
   ]
  },
  {
   "cell_type": "code",
   "execution_count": 3,
   "id": "31c1e4ab",
   "metadata": {},
   "outputs": [],
   "source": [
    "from collections import deque\n",
    " \n",
    " \n",
    "# Data structure to store a binary tree node\n",
    "class Node:\n",
    "    def __init__(self, data=None, left=None, right=None):\n",
    "        self.data = data\n",
    "        self.left = left\n",
    "        self.right = right\n",
    " \n",
    " \n",
    "# Iterative function to perform preorder traversal on the tree\n",
    "def preorderIterative(root):\n",
    " \n",
    "    # return if the tree is empty\n",
    "    if root is None:\n",
    "        return\n",
    " \n",
    "    # create an empty stack and push the root node\n",
    "    stack = deque()\n",
    "    stack.append(root)\n",
    " \n",
    "    # loop till stack is empty\n",
    "    while stack:\n",
    " \n",
    "        # pop a node from the stack and print it\n",
    "        curr = stack.pop()\n",
    " \n",
    "        print(curr.data, end=' ')\n",
    " \n",
    "        # push the right child of the popped node into the stack\n",
    "        if curr.right:\n",
    "            stack.append(curr.right)\n",
    " \n",
    "        # push the left child of the popped node into the stack\n",
    "        if curr.left:\n",
    "            stack.append(curr.left)\n",
    " \n",
    "    # the right child must be pushed first so that the left child\n",
    "    # is processed first (LIFO order)"
   ]
  },
  {
   "cell_type": "markdown",
   "id": "1922b472",
   "metadata": {},
   "source": [
    "### Maximum depth of a binary tree"
   ]
  },
  {
   "cell_type": "code",
   "execution_count": null,
   "id": "11cd53a4",
   "metadata": {},
   "outputs": [],
   "source": [
    "class TreeNode:\n",
    "    def __init__(self, val=0, left=None, right=None):\n",
    "        self.val = val\n",
    "        self.left = left\n",
    "        self.right = right\n",
    "\n",
    "# DFS solution\n",
    "class Solution:\n",
    "    def maxDepth(self, root: Optional[TreeNode]) -> int:\n",
    "        \n",
    "        if root is None:\n",
    "            return 0\n",
    "        else:\n",
    "            return 1 + max(self.maxDepth(root.left), self.maxDepth(root.right))\n",
    "        \n",
    "# BFS solution\n",
    "class Solution:\n",
    "    def maxDepth(self, root: Optional[TreeNode]) -> int:\n",
    "        max_depth = 0\n",
    "        if root:\n",
    "            que = [(1, root)]\n",
    "            \n",
    "            while que:\n",
    "                curr_level, curr_node = que.pop(0)\n",
    "                if max_depth < curr_level:\n",
    "                    max_depth = curr_level\n",
    "                \n",
    "                if curr_node.left:\n",
    "                    que.append((curr_level+1, curr_node.left))\n",
    "                if curr_node.right:\n",
    "                    que.append((curr_level+1, curr_node.right))\n",
    "        \n",
    "        \n",
    "        \n",
    "        \n",
    "        \n",
    "        \n",
    "        return max_depth"
   ]
  },
  {
   "cell_type": "markdown",
   "id": "72faf4b0",
   "metadata": {},
   "source": [
    "### Sorting 101 \n",
    "\n",
    "Two ways to sort a list:\n",
    "1. list.sort() - modifies the list in place and resturns None\n",
    "2. sorted() - returns modified list\n",
    "\n",
    "Diff between the two is that sorted works on any iterable and sort only on a list\n",
    "Both take in a parameter called key to decide how elements are compared"
   ]
  },
  {
   "cell_type": "code",
   "execution_count": 1,
   "id": "2d3e2ae2",
   "metadata": {},
   "outputs": [
    {
     "data": {
      "text/plain": [
       "['a', 'Andrew', 'from', 'is', 'string', 'test', 'This']"
      ]
     },
     "execution_count": 1,
     "metadata": {},
     "output_type": "execute_result"
    }
   ],
   "source": [
    "sorted(\"This is a test string from Andrew\".split(), key=str.lower)"
   ]
  },
  {
   "cell_type": "markdown",
   "id": "5136755b",
   "metadata": {},
   "source": [
    "Both also accept another paramter called reverse for ascending/descending order\n",
    "\n",
    "Eg: sorted(student_objects, key=attrgetter('age'), reverse=True)\n",
    "\n",
    "Sorts are guaranteed to be stable. That means that when multiple records have the same key, their original order is preserved.\n"
   ]
  },
  {
   "cell_type": "code",
   "execution_count": 2,
   "id": "6dd68310",
   "metadata": {},
   "outputs": [
    {
     "data": {
      "text/plain": [
       "[('blue', 1), ('blue', 2), ('red', 1), ('red', 2)]"
      ]
     },
     "execution_count": 2,
     "metadata": {},
     "output_type": "execute_result"
    }
   ],
   "source": [
    "data = [('red', 1), ('blue', 1), ('red', 2), ('blue', 2)]\n",
    "sorted(data, key=lambda item: item[0])"
   ]
  },
  {
   "cell_type": "markdown",
   "id": "84d6f6d8",
   "metadata": {},
   "source": [
    "This wonderful property lets you build complex sorts in a series of sorting steps. For example, to sort the student data by descending grade and then ascending age, do the age sort first and then sort again using grade"
   ]
  },
  {
   "cell_type": "code",
   "execution_count": 8,
   "id": "b2cc7f39",
   "metadata": {},
   "outputs": [
    {
     "name": "stdout",
     "output_type": "stream",
     "text": [
      "[[2, 'short', 'red', 9], [12, 'tall', 'blue', 1], [4, 'tall', 'blue', 13]]\n"
     ]
    }
   ],
   "source": [
    "s = [[12, 'tall', 'blue', 1],\n",
    "[2, 'short', 'red', 9],\n",
    "[4, 'tall', 'blue', 13]]\n",
    "\n",
    "s_new = sorted(s, key = lambda x: (x[1], x[2]))\n",
    "print(s_new)"
   ]
  },
  {
   "cell_type": "code",
   "execution_count": 9,
   "id": "490ff537",
   "metadata": {},
   "outputs": [
    {
     "data": {
      "text/plain": [
       "[[2, 'short', 'red', 9], [12, 'tall', 'blue', 1], [4, 'tall', 'blue', 13]]"
      ]
     },
     "execution_count": 9,
     "metadata": {},
     "output_type": "execute_result"
    }
   ],
   "source": [
    "import operator\n",
    "s = sorted(s, key = operator.itemgetter(1, 2))\n",
    "s"
   ]
  },
  {
   "cell_type": "markdown",
   "id": "875352a7",
   "metadata": {},
   "source": [
    "###  Stacks & Queues\n",
    "\n",
    "Stacks can be implemented in Python using\n",
    "1. List built in type - Makes a decent stack data structure as it supports push and pop operations in amortized O(1) time. Python’s lists are implemented as dynamic arrays internally which means they occasionally need to resize the storage space for elements stored in them whenever they are added or removed. The storage space is allocated more than required, so that not every push or pop requires resizing and you get an amortized O(1) time complexity for these operations. On the other hand, lists provide fast O(1) time random access to elements on the stack which can be an added benefit\n",
    "2. collections.deque Class- The deque class implements a double-ended queue which supports addition and removal of elements from either end in O(1) time. Because deques support adding and removing elements from both ends equally well, they can serve both as queues and as stacks.Python’s deque objects are implemented as doubly-linked lists which gives them proper and consistent performance insertion and deletion of elements, but poor O(n) performance as they randomly access elements in the middle of the stack.\n",
    "\n",
    "important functions:\n",
    "1. append() and appendleft()\n",
    "2. clear()\n",
    "3. copy()\n",
    "4. pop() and popleft()\n",
    "5. reverse()"
   ]
  },
  {
   "cell_type": "code",
   "execution_count": null,
   "id": "56093ad5",
   "metadata": {},
   "outputs": [],
   "source": []
  }
 ],
 "metadata": {
  "kernelspec": {
   "display_name": "Python 3 (ipykernel)",
   "language": "python",
   "name": "python3"
  },
  "language_info": {
   "codemirror_mode": {
    "name": "ipython",
    "version": 3
   },
   "file_extension": ".py",
   "mimetype": "text/x-python",
   "name": "python",
   "nbconvert_exporter": "python",
   "pygments_lexer": "ipython3",
   "version": "3.9.12"
  }
 },
 "nbformat": 4,
 "nbformat_minor": 5
}
