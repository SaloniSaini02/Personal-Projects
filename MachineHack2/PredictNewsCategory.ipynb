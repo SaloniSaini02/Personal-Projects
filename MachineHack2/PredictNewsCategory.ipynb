{
  "nbformat": 4,
  "nbformat_minor": 0,
  "metadata": {
    "kernelspec": {
      "display_name": "Python 3",
      "language": "python",
      "name": "python3"
    },
    "language_info": {
      "codemirror_mode": {
        "name": "ipython",
        "version": 3
      },
      "file_extension": ".py",
      "mimetype": "text/x-python",
      "name": "python",
      "nbconvert_exporter": "python",
      "pygments_lexer": "ipython3",
      "version": "3.5.4"
    },
    "colab": {
      "name": "PredictNewsCategory.ipynb",
      "provenance": [],
      "toc_visible": true
    }
  },
  "cells": [
    {
      "cell_type": "markdown",
      "metadata": {
        "id": "ULKdAVIksbiO",
        "colab_type": "text"
      },
      "source": [
        "# Objective: Predicting News Category from Article"
      ]
    },
    {
      "cell_type": "code",
      "metadata": {
        "id": "DIqgOzqBsbiS",
        "colab_type": "code",
        "colab": {}
      },
      "source": [
        "import pandas as pd\n",
        "import numpy as np\n",
        "import nltk\n",
        "import string\n",
        "import re\n",
        "from sklearn.ensemble import RandomForestClassifier\n",
        "from sklearn.model_selection import GridSearchCV\n",
        "from sklearn.pipeline import Pipeline\n",
        "from sklearn.metrics import classification_report, confusion_matrix\n",
        "from sklearn.feature_selection import SelectKBest, chi2"
      ],
      "execution_count": 0,
      "outputs": []
    },
    {
      "cell_type": "markdown",
      "metadata": {
        "id": "SFQHdgPWz2Cw",
        "colab_type": "text"
      },
      "source": [
        "# Part 1: NLTK"
      ]
    },
    {
      "cell_type": "code",
      "metadata": {
        "id": "8_ywY96Hsbik",
        "colab_type": "code",
        "colab": {}
      },
      "source": [
        "df_train = pd.read_excel('Data_Train.xlsx')"
      ],
      "execution_count": 0,
      "outputs": []
    },
    {
      "cell_type": "code",
      "metadata": {
        "id": "96ThlFo4sbiu",
        "colab_type": "code",
        "outputId": "c7f227a8-1a84-4d42-c665-2fcd13ee5bae",
        "colab": {
          "base_uri": "https://localhost:8080/",
          "height": 202
        }
      },
      "source": [
        "df_train.head()"
      ],
      "execution_count": 0,
      "outputs": [
        {
          "output_type": "execute_result",
          "data": {
            "text/html": [
              "<div>\n",
              "<style scoped>\n",
              "    .dataframe tbody tr th:only-of-type {\n",
              "        vertical-align: middle;\n",
              "    }\n",
              "\n",
              "    .dataframe tbody tr th {\n",
              "        vertical-align: top;\n",
              "    }\n",
              "\n",
              "    .dataframe thead th {\n",
              "        text-align: right;\n",
              "    }\n",
              "</style>\n",
              "<table border=\"1\" class=\"dataframe\">\n",
              "  <thead>\n",
              "    <tr style=\"text-align: right;\">\n",
              "      <th></th>\n",
              "      <th>STORY</th>\n",
              "      <th>SECTION</th>\n",
              "    </tr>\n",
              "  </thead>\n",
              "  <tbody>\n",
              "    <tr>\n",
              "      <th>0</th>\n",
              "      <td>But the most painful was the huge reversal in ...</td>\n",
              "      <td>3</td>\n",
              "    </tr>\n",
              "    <tr>\n",
              "      <th>1</th>\n",
              "      <td>How formidable is the opposition alliance amon...</td>\n",
              "      <td>0</td>\n",
              "    </tr>\n",
              "    <tr>\n",
              "      <th>2</th>\n",
              "      <td>Most Asian currencies were trading lower today...</td>\n",
              "      <td>3</td>\n",
              "    </tr>\n",
              "    <tr>\n",
              "      <th>3</th>\n",
              "      <td>If you want to answer any question, click on ‘...</td>\n",
              "      <td>1</td>\n",
              "    </tr>\n",
              "    <tr>\n",
              "      <th>4</th>\n",
              "      <td>In global markets, gold prices edged up today ...</td>\n",
              "      <td>3</td>\n",
              "    </tr>\n",
              "  </tbody>\n",
              "</table>\n",
              "</div>"
            ],
            "text/plain": [
              "                                               STORY  SECTION\n",
              "0  But the most painful was the huge reversal in ...        3\n",
              "1  How formidable is the opposition alliance amon...        0\n",
              "2  Most Asian currencies were trading lower today...        3\n",
              "3  If you want to answer any question, click on ‘...        1\n",
              "4  In global markets, gold prices edged up today ...        3"
            ]
          },
          "metadata": {
            "tags": []
          },
          "execution_count": 4
        }
      ]
    },
    {
      "cell_type": "code",
      "metadata": {
        "id": "VdovW0-Qsbi5",
        "colab_type": "code",
        "outputId": "4ca29bb6-06d2-43b6-bca5-80d63a8e9646",
        "colab": {
          "base_uri": "https://localhost:8080/",
          "height": 202
        }
      },
      "source": [
        "df_test = pd.read_excel('Data_Test.xlsx')\n",
        "df_test.head()"
      ],
      "execution_count": 0,
      "outputs": [
        {
          "output_type": "execute_result",
          "data": {
            "text/html": [
              "<div>\n",
              "<style scoped>\n",
              "    .dataframe tbody tr th:only-of-type {\n",
              "        vertical-align: middle;\n",
              "    }\n",
              "\n",
              "    .dataframe tbody tr th {\n",
              "        vertical-align: top;\n",
              "    }\n",
              "\n",
              "    .dataframe thead th {\n",
              "        text-align: right;\n",
              "    }\n",
              "</style>\n",
              "<table border=\"1\" class=\"dataframe\">\n",
              "  <thead>\n",
              "    <tr style=\"text-align: right;\">\n",
              "      <th></th>\n",
              "      <th>STORY</th>\n",
              "    </tr>\n",
              "  </thead>\n",
              "  <tbody>\n",
              "    <tr>\n",
              "      <th>0</th>\n",
              "      <td>2019 will see gadgets like gaming smartphones ...</td>\n",
              "    </tr>\n",
              "    <tr>\n",
              "      <th>1</th>\n",
              "      <td>It has also unleashed a wave of changes in the...</td>\n",
              "    </tr>\n",
              "    <tr>\n",
              "      <th>2</th>\n",
              "      <td>It can be confusing to pick the right smartpho...</td>\n",
              "    </tr>\n",
              "    <tr>\n",
              "      <th>3</th>\n",
              "      <td>The mobile application is integrated with a da...</td>\n",
              "    </tr>\n",
              "    <tr>\n",
              "      <th>4</th>\n",
              "      <td>We have rounded up some of the gadgets that sh...</td>\n",
              "    </tr>\n",
              "  </tbody>\n",
              "</table>\n",
              "</div>"
            ],
            "text/plain": [
              "                                               STORY\n",
              "0  2019 will see gadgets like gaming smartphones ...\n",
              "1  It has also unleashed a wave of changes in the...\n",
              "2  It can be confusing to pick the right smartpho...\n",
              "3  The mobile application is integrated with a da...\n",
              "4  We have rounded up some of the gadgets that sh..."
            ]
          },
          "metadata": {
            "tags": []
          },
          "execution_count": 5
        }
      ]
    },
    {
      "cell_type": "markdown",
      "metadata": {
        "id": "IHBxUqs3sbjC",
        "colab_type": "text"
      },
      "source": [
        "# 1. Data Exploration"
      ]
    },
    {
      "cell_type": "code",
      "metadata": {
        "id": "3N6K5WpusbjF",
        "colab_type": "code",
        "outputId": "19976145-0165-46dd-ee00-56f57ffcaf33",
        "colab": {
          "base_uri": "https://localhost:8080/",
          "height": 104
        }
      },
      "source": [
        "df_train['SECTION'].value_counts()"
      ],
      "execution_count": 0,
      "outputs": [
        {
          "output_type": "execute_result",
          "data": {
            "text/plain": [
              "1    2772\n",
              "2    1924\n",
              "0    1686\n",
              "3    1246\n",
              "Name: SECTION, dtype: int64"
            ]
          },
          "metadata": {
            "tags": []
          },
          "execution_count": 6
        }
      ]
    },
    {
      "cell_type": "markdown",
      "metadata": {
        "id": "A1y7wuiCsbjQ",
        "colab_type": "text"
      },
      "source": [
        "This is a multiclass classification problem with 4 labels:\n",
        "0 - Politics Story\n",
        "1 - Technology Story\n",
        "2 - Entertainment Story\n",
        "4 - Business Story"
      ]
    },
    {
      "cell_type": "code",
      "metadata": {
        "id": "7huS_W-YsbjT",
        "colab_type": "code",
        "outputId": "f65571b6-870b-4d4a-e83f-3468b3674e5a",
        "colab": {
          "base_uri": "https://localhost:8080/",
          "height": 35
        }
      },
      "source": [
        "df_train['SECTION'].isnull().sum()"
      ],
      "execution_count": 0,
      "outputs": [
        {
          "output_type": "execute_result",
          "data": {
            "text/plain": [
              "0"
            ]
          },
          "metadata": {
            "tags": []
          },
          "execution_count": 7
        }
      ]
    },
    {
      "cell_type": "code",
      "metadata": {
        "id": "qat6LX6isbjl",
        "colab_type": "code",
        "outputId": "402790da-ab91-4a68-a7bb-cef33871bb80",
        "colab": {
          "base_uri": "https://localhost:8080/",
          "height": 35
        }
      },
      "source": [
        "df_train['STORY'].isnull().sum()"
      ],
      "execution_count": 0,
      "outputs": [
        {
          "output_type": "execute_result",
          "data": {
            "text/plain": [
              "0"
            ]
          },
          "metadata": {
            "tags": []
          },
          "execution_count": 8
        }
      ]
    },
    {
      "cell_type": "markdown",
      "metadata": {
        "id": "ig64tfNDsbjy",
        "colab_type": "text"
      },
      "source": [
        "# 2. Data Cleaning"
      ]
    },
    {
      "cell_type": "code",
      "metadata": {
        "id": "3iQ_twhF9fN_",
        "colab_type": "code",
        "outputId": "30822ac0-42af-4c38-826c-012990f85cc2",
        "colab": {
          "base_uri": "https://localhost:8080/",
          "height": 867
        }
      },
      "source": [
        "nltk.download(\"popular\")"
      ],
      "execution_count": 0,
      "outputs": [
        {
          "output_type": "stream",
          "text": [
            "[nltk_data] Downloading collection 'popular'\n",
            "[nltk_data]    | \n",
            "[nltk_data]    | Downloading package cmudict to /root/nltk_data...\n",
            "[nltk_data]    |   Package cmudict is already up-to-date!\n",
            "[nltk_data]    | Downloading package gazetteers to /root/nltk_data...\n",
            "[nltk_data]    |   Package gazetteers is already up-to-date!\n",
            "[nltk_data]    | Downloading package genesis to /root/nltk_data...\n",
            "[nltk_data]    |   Package genesis is already up-to-date!\n",
            "[nltk_data]    | Downloading package gutenberg to /root/nltk_data...\n",
            "[nltk_data]    |   Package gutenberg is already up-to-date!\n",
            "[nltk_data]    | Downloading package inaugural to /root/nltk_data...\n",
            "[nltk_data]    |   Package inaugural is already up-to-date!\n",
            "[nltk_data]    | Downloading package movie_reviews to\n",
            "[nltk_data]    |     /root/nltk_data...\n",
            "[nltk_data]    |   Package movie_reviews is already up-to-date!\n",
            "[nltk_data]    | Downloading package names to /root/nltk_data...\n",
            "[nltk_data]    |   Package names is already up-to-date!\n",
            "[nltk_data]    | Downloading package shakespeare to /root/nltk_data...\n",
            "[nltk_data]    |   Package shakespeare is already up-to-date!\n",
            "[nltk_data]    | Downloading package stopwords to /root/nltk_data...\n",
            "[nltk_data]    |   Package stopwords is already up-to-date!\n",
            "[nltk_data]    | Downloading package treebank to /root/nltk_data...\n",
            "[nltk_data]    |   Package treebank is already up-to-date!\n",
            "[nltk_data]    | Downloading package twitter_samples to\n",
            "[nltk_data]    |     /root/nltk_data...\n",
            "[nltk_data]    |   Package twitter_samples is already up-to-date!\n",
            "[nltk_data]    | Downloading package omw to /root/nltk_data...\n",
            "[nltk_data]    |   Package omw is already up-to-date!\n",
            "[nltk_data]    | Downloading package wordnet to /root/nltk_data...\n",
            "[nltk_data]    |   Package wordnet is already up-to-date!\n",
            "[nltk_data]    | Downloading package wordnet_ic to /root/nltk_data...\n",
            "[nltk_data]    |   Package wordnet_ic is already up-to-date!\n",
            "[nltk_data]    | Downloading package words to /root/nltk_data...\n",
            "[nltk_data]    |   Package words is already up-to-date!\n",
            "[nltk_data]    | Downloading package maxent_ne_chunker to\n",
            "[nltk_data]    |     /root/nltk_data...\n",
            "[nltk_data]    |   Package maxent_ne_chunker is already up-to-date!\n",
            "[nltk_data]    | Downloading package punkt to /root/nltk_data...\n",
            "[nltk_data]    |   Package punkt is already up-to-date!\n",
            "[nltk_data]    | Downloading package snowball_data to\n",
            "[nltk_data]    |     /root/nltk_data...\n",
            "[nltk_data]    |   Package snowball_data is already up-to-date!\n",
            "[nltk_data]    | Downloading package averaged_perceptron_tagger to\n",
            "[nltk_data]    |     /root/nltk_data...\n",
            "[nltk_data]    |   Package averaged_perceptron_tagger is already up-\n",
            "[nltk_data]    |       to-date!\n",
            "[nltk_data]    | \n",
            "[nltk_data]  Done downloading collection popular\n"
          ],
          "name": "stdout"
        },
        {
          "output_type": "execute_result",
          "data": {
            "text/plain": [
              "True"
            ]
          },
          "metadata": {
            "tags": []
          },
          "execution_count": 9
        }
      ]
    },
    {
      "cell_type": "code",
      "metadata": {
        "id": "_qjXYrWGsbj0",
        "colab_type": "code",
        "colab": {}
      },
      "source": [
        "stopword = nltk.corpus.stopwords.words('english')"
      ],
      "execution_count": 0,
      "outputs": []
    },
    {
      "cell_type": "code",
      "metadata": {
        "id": "zl4kXF1asbkB",
        "colab_type": "code",
        "colab": {}
      },
      "source": [
        "wn = nltk.WordNetLemmatizer()"
      ],
      "execution_count": 0,
      "outputs": []
    },
    {
      "cell_type": "code",
      "metadata": {
        "id": "Clg9ZqWUsbkI",
        "colab_type": "code",
        "colab": {}
      },
      "source": [
        "from sklearn.feature_extraction.text import TfidfVectorizer"
      ],
      "execution_count": 0,
      "outputs": []
    },
    {
      "cell_type": "code",
      "metadata": {
        "id": "wpO2wBnGsbkU",
        "colab_type": "code",
        "colab": {}
      },
      "source": [
        "def clean_text(text):\n",
        "    # Remove punctuation\n",
        "    punctuation = \"\".join([char for char in text if char not in string.punctuation])\n",
        "    # Vectorize\n",
        "    split = re.split(\"\\W+\", punctuation)\n",
        "    # Remove stopwords\n",
        "    text = [word for word in split if word not in stopword]\n",
        "    # Lemmatize text\n",
        "    lem_text = [wn.lemmatize(word) for word in text]\n",
        "    return lem_text"
      ],
      "execution_count": 0,
      "outputs": []
    },
    {
      "cell_type": "code",
      "metadata": {
        "id": "_4IS1Wn9sbke",
        "colab_type": "code",
        "colab": {}
      },
      "source": [
        "tfidf_vect = TfidfVectorizer(analyzer=clean_text)\n",
        "X_tfidf = tfidf_vect.fit_transform(df_train['STORY'])\n",
        "\n",
        "X_features = pd.DataFrame(X_tfidf.toarray())"
      ],
      "execution_count": 0,
      "outputs": []
    },
    {
      "cell_type": "markdown",
      "metadata": {
        "id": "g2oRNkWbka1G",
        "colab_type": "text"
      },
      "source": [
        "Used TF-IDF vectrizer to get tokens. This vectorizer using fit creates a vocabulary of all the words in the corpus with indexes. On transform it converts sentences to feature vecrtors.The columns are the indices for all the words in the corpus and the value is the term-frequency inverse document frequency for the word in the document.This is called the **Bag of Words** model. "
      ]
    },
    {
      "cell_type": "code",
      "metadata": {
        "id": "7iiKZLVTiIKv",
        "colab_type": "code",
        "outputId": "e3157f2f-92e9-47a1-f052-ba86cc87bb2b",
        "colab": {
          "base_uri": "https://localhost:8080/",
          "height": 35
        }
      },
      "source": [
        "X_features.shape"
      ],
      "execution_count": 0,
      "outputs": [
        {
          "output_type": "execute_result",
          "data": {
            "text/plain": [
              "(7628, 40379)"
            ]
          },
          "metadata": {
            "tags": []
          },
          "execution_count": 15
        }
      ]
    },
    {
      "cell_type": "markdown",
      "metadata": {
        "id": "IZyPR6hik-yu",
        "colab_type": "text"
      },
      "source": [
        "# Model Training - RandomForest"
      ]
    },
    {
      "cell_type": "code",
      "metadata": {
        "id": "I49dfuULKqO0",
        "colab_type": "code",
        "colab": {}
      },
      "source": [
        "rf = RandomForestClassifier()\n",
        "param ={'n_estimators' : [100,120],\n",
        "       'max_depth':[60, 80,100,120]}\n",
        "gs = GridSearchCV(rf, param, cv =5, n_jobs = 1)\n",
        "gs_fit = gs.fit(X_features,df_train['SECTION'])"
      ],
      "execution_count": 0,
      "outputs": []
    },
    {
      "cell_type": "code",
      "metadata": {
        "id": "v6KC-2QZsbkv",
        "colab_type": "code",
        "outputId": "0b2260a6-3baa-4fd2-dc41-24cb368f2398",
        "colab": {
          "base_uri": "https://localhost:8080/",
          "height": 35
        }
      },
      "source": [
        "gs_fit.best_params_"
      ],
      "execution_count": 0,
      "outputs": [
        {
          "output_type": "execute_result",
          "data": {
            "text/plain": [
              "{'max_depth': 120, 'n_estimators': 120}"
            ]
          },
          "metadata": {
            "tags": []
          },
          "execution_count": 29
        }
      ]
    },
    {
      "cell_type": "code",
      "metadata": {
        "id": "OXQmNF97sbk4",
        "colab_type": "code",
        "outputId": "81ad5fa0-f435-4171-9bdf-b12217ea0922",
        "colab": {
          "base_uri": "https://localhost:8080/",
          "height": 139
        }
      },
      "source": [
        "rf = RandomForestClassifier(max_depth=120, n_estimators=120, n_jobs=1,random_state=0)\n",
        "rf.fit(X_features,df_train['SECTION'])"
      ],
      "execution_count": 0,
      "outputs": [
        {
          "output_type": "execute_result",
          "data": {
            "text/plain": [
              "RandomForestClassifier(bootstrap=True, class_weight=None, criterion='gini',\n",
              "                       max_depth=120, max_features='auto', max_leaf_nodes=None,\n",
              "                       min_impurity_decrease=0.0, min_impurity_split=None,\n",
              "                       min_samples_leaf=1, min_samples_split=2,\n",
              "                       min_weight_fraction_leaf=0.0, n_estimators=120, n_jobs=1,\n",
              "                       oob_score=False, random_state=0, verbose=0,\n",
              "                       warm_start=False)"
            ]
          },
          "metadata": {
            "tags": []
          },
          "execution_count": 16
        }
      ]
    },
    {
      "cell_type": "markdown",
      "metadata": {
        "id": "XfkwjrBhlGBQ",
        "colab_type": "text"
      },
      "source": [
        "# Model Prediction"
      ]
    },
    {
      "cell_type": "code",
      "metadata": {
        "id": "v-p-KNPIsblC",
        "colab_type": "code",
        "colab": {}
      },
      "source": [
        "X_test_tfidf= tfidf_vect.transform(df_test['STORY'])\n",
        "X_test_features = pd.DataFrame(X_test_tfidf.toarray())"
      ],
      "execution_count": 0,
      "outputs": []
    },
    {
      "cell_type": "code",
      "metadata": {
        "id": "wSLiZXeOsblL",
        "colab_type": "code",
        "colab": {}
      },
      "source": [
        "y_pred = rf.predict(X_test_features)"
      ],
      "execution_count": 0,
      "outputs": []
    },
    {
      "cell_type": "code",
      "metadata": {
        "id": "Wa-6dwEKsblU",
        "colab_type": "code",
        "outputId": "ca25c745-349a-46b9-81f7-2f1eaf4eeb53",
        "colab": {
          "base_uri": "https://localhost:8080/",
          "height": 202
        }
      },
      "source": [
        "df_result = pd.DataFrame({'SECTION':y_pred})\n",
        "df_result.head()"
      ],
      "execution_count": 0,
      "outputs": [
        {
          "output_type": "execute_result",
          "data": {
            "text/html": [
              "<div>\n",
              "<style scoped>\n",
              "    .dataframe tbody tr th:only-of-type {\n",
              "        vertical-align: middle;\n",
              "    }\n",
              "\n",
              "    .dataframe tbody tr th {\n",
              "        vertical-align: top;\n",
              "    }\n",
              "\n",
              "    .dataframe thead th {\n",
              "        text-align: right;\n",
              "    }\n",
              "</style>\n",
              "<table border=\"1\" class=\"dataframe\">\n",
              "  <thead>\n",
              "    <tr style=\"text-align: right;\">\n",
              "      <th></th>\n",
              "      <th>SECTION</th>\n",
              "    </tr>\n",
              "  </thead>\n",
              "  <tbody>\n",
              "    <tr>\n",
              "      <th>0</th>\n",
              "      <td>1</td>\n",
              "    </tr>\n",
              "    <tr>\n",
              "      <th>1</th>\n",
              "      <td>2</td>\n",
              "    </tr>\n",
              "    <tr>\n",
              "      <th>2</th>\n",
              "      <td>1</td>\n",
              "    </tr>\n",
              "    <tr>\n",
              "      <th>3</th>\n",
              "      <td>0</td>\n",
              "    </tr>\n",
              "    <tr>\n",
              "      <th>4</th>\n",
              "      <td>1</td>\n",
              "    </tr>\n",
              "  </tbody>\n",
              "</table>\n",
              "</div>"
            ],
            "text/plain": [
              "   SECTION\n",
              "0        1\n",
              "1        2\n",
              "2        1\n",
              "3        0\n",
              "4        1"
            ]
          },
          "metadata": {
            "tags": []
          },
          "execution_count": 43
        }
      ]
    },
    {
      "cell_type": "code",
      "metadata": {
        "id": "KFQnrLUSsble",
        "colab_type": "code",
        "colab": {}
      },
      "source": [
        "df_result.to_excel('Submission3.xlsx')"
      ],
      "execution_count": 0,
      "outputs": []
    },
    {
      "cell_type": "markdown",
      "metadata": {
        "id": "HLE3oaNdsbly",
        "colab_type": "text"
      },
      "source": [
        "Result: 0.958 Rank: 188"
      ]
    },
    {
      "cell_type": "markdown",
      "metadata": {
        "id": "LbBtcdaRyHcT",
        "colab_type": "text"
      },
      "source": [
        "# Part 2: Neural Networks"
      ]
    },
    {
      "cell_type": "code",
      "metadata": {
        "id": "sb_LZ8V0-VnQ",
        "colab_type": "code",
        "outputId": "93fc5313-d590-4674-ad81-6c9b18f65f43",
        "colab": {
          "base_uri": "https://localhost:8080/",
          "height": 35
        }
      },
      "source": [
        "import keras\n",
        "from keras.preprocessing.text import Tokenizer\n",
        "from keras.preprocessing.sequence import pad_sequences\n",
        "from keras.utils import to_categorical"
      ],
      "execution_count": 2,
      "outputs": [
        {
          "output_type": "stream",
          "text": [
            "Using TensorFlow backend.\n"
          ],
          "name": "stderr"
        }
      ]
    },
    {
      "cell_type": "markdown",
      "metadata": {
        "id": "jspraPHBndvU",
        "colab_type": "text"
      },
      "source": [
        "Word Embedding Model : Coverts words to feature vectors. It maps semantic meaning to geometric space. Two ways to create word embeddings :\n",
        "\n",
        "1) Train word embedding during training of neural network.\n",
        "\n",
        "2) Use pretrained word embedding in the network. \n",
        "\n",
        "Keras Vectorizer utility that maps the corpus to a dictionary with keys being the words and tha value being the index of the word. num_words can be used to keep n most common words. The most common word is assigned the intger 1 and so on. Words not in vocab are assigned integer word_count+1. \n",
        "\n",
        "Diff from tfdf vectorizer is that the length of each vector is equal to length of the text and the value is the index. "
      ]
    },
    {
      "cell_type": "code",
      "metadata": {
        "id": "q77mKlT49wje",
        "colab_type": "code",
        "outputId": "45c0fb28-0f73-4786-8ac7-b11901dee462",
        "colab": {
          "base_uri": "https://localhost:8080/",
          "height": 202
        }
      },
      "source": [
        "df_train = pd.read_excel(\"Data_Train.xlsx\")\n",
        "df_train.head()"
      ],
      "execution_count": 3,
      "outputs": [
        {
          "output_type": "execute_result",
          "data": {
            "text/html": [
              "<div>\n",
              "<style scoped>\n",
              "    .dataframe tbody tr th:only-of-type {\n",
              "        vertical-align: middle;\n",
              "    }\n",
              "\n",
              "    .dataframe tbody tr th {\n",
              "        vertical-align: top;\n",
              "    }\n",
              "\n",
              "    .dataframe thead th {\n",
              "        text-align: right;\n",
              "    }\n",
              "</style>\n",
              "<table border=\"1\" class=\"dataframe\">\n",
              "  <thead>\n",
              "    <tr style=\"text-align: right;\">\n",
              "      <th></th>\n",
              "      <th>STORY</th>\n",
              "      <th>SECTION</th>\n",
              "    </tr>\n",
              "  </thead>\n",
              "  <tbody>\n",
              "    <tr>\n",
              "      <th>0</th>\n",
              "      <td>But the most painful was the huge reversal in ...</td>\n",
              "      <td>3</td>\n",
              "    </tr>\n",
              "    <tr>\n",
              "      <th>1</th>\n",
              "      <td>How formidable is the opposition alliance amon...</td>\n",
              "      <td>0</td>\n",
              "    </tr>\n",
              "    <tr>\n",
              "      <th>2</th>\n",
              "      <td>Most Asian currencies were trading lower today...</td>\n",
              "      <td>3</td>\n",
              "    </tr>\n",
              "    <tr>\n",
              "      <th>3</th>\n",
              "      <td>If you want to answer any question, click on ‘...</td>\n",
              "      <td>1</td>\n",
              "    </tr>\n",
              "    <tr>\n",
              "      <th>4</th>\n",
              "      <td>In global markets, gold prices edged up today ...</td>\n",
              "      <td>3</td>\n",
              "    </tr>\n",
              "  </tbody>\n",
              "</table>\n",
              "</div>"
            ],
            "text/plain": [
              "                                               STORY  SECTION\n",
              "0  But the most painful was the huge reversal in ...        3\n",
              "1  How formidable is the opposition alliance amon...        0\n",
              "2  Most Asian currencies were trading lower today...        3\n",
              "3  If you want to answer any question, click on ‘...        1\n",
              "4  In global markets, gold prices edged up today ...        3"
            ]
          },
          "metadata": {
            "tags": []
          },
          "execution_count": 3
        }
      ]
    },
    {
      "cell_type": "code",
      "metadata": {
        "id": "y5LwSati98-B",
        "colab_type": "code",
        "outputId": "ea6d8774-9903-47ff-fe0d-4fd4d23da5b8",
        "colab": {
          "base_uri": "https://localhost:8080/",
          "height": 202
        }
      },
      "source": [
        "df_test = pd.read_excel(\"Data_Test.xlsx\")\n",
        "df_test.head()"
      ],
      "execution_count": 4,
      "outputs": [
        {
          "output_type": "execute_result",
          "data": {
            "text/html": [
              "<div>\n",
              "<style scoped>\n",
              "    .dataframe tbody tr th:only-of-type {\n",
              "        vertical-align: middle;\n",
              "    }\n",
              "\n",
              "    .dataframe tbody tr th {\n",
              "        vertical-align: top;\n",
              "    }\n",
              "\n",
              "    .dataframe thead th {\n",
              "        text-align: right;\n",
              "    }\n",
              "</style>\n",
              "<table border=\"1\" class=\"dataframe\">\n",
              "  <thead>\n",
              "    <tr style=\"text-align: right;\">\n",
              "      <th></th>\n",
              "      <th>STORY</th>\n",
              "    </tr>\n",
              "  </thead>\n",
              "  <tbody>\n",
              "    <tr>\n",
              "      <th>0</th>\n",
              "      <td>2019 will see gadgets like gaming smartphones ...</td>\n",
              "    </tr>\n",
              "    <tr>\n",
              "      <th>1</th>\n",
              "      <td>It has also unleashed a wave of changes in the...</td>\n",
              "    </tr>\n",
              "    <tr>\n",
              "      <th>2</th>\n",
              "      <td>It can be confusing to pick the right smartpho...</td>\n",
              "    </tr>\n",
              "    <tr>\n",
              "      <th>3</th>\n",
              "      <td>The mobile application is integrated with a da...</td>\n",
              "    </tr>\n",
              "    <tr>\n",
              "      <th>4</th>\n",
              "      <td>We have rounded up some of the gadgets that sh...</td>\n",
              "    </tr>\n",
              "  </tbody>\n",
              "</table>\n",
              "</div>"
            ],
            "text/plain": [
              "                                               STORY\n",
              "0  2019 will see gadgets like gaming smartphones ...\n",
              "1  It has also unleashed a wave of changes in the...\n",
              "2  It can be confusing to pick the right smartpho...\n",
              "3  The mobile application is integrated with a da...\n",
              "4  We have rounded up some of the gadgets that sh..."
            ]
          },
          "metadata": {
            "tags": []
          },
          "execution_count": 4
        }
      ]
    },
    {
      "cell_type": "code",
      "metadata": {
        "id": "z5c-BqEW-14U",
        "colab_type": "code",
        "colab": {}
      },
      "source": [
        "sentences_train = df_train['STORY'].values\n",
        "y_train = df_train['SECTION'].values\n",
        "sentences_test = df_test['STORY'].values"
      ],
      "execution_count": 0,
      "outputs": []
    },
    {
      "cell_type": "markdown",
      "metadata": {
        "id": "Er061kwJ9XiD",
        "colab_type": "text"
      },
      "source": [
        "\n",
        "\n",
        "# Data Cleaning"
      ]
    },
    {
      "cell_type": "code",
      "metadata": {
        "id": "GQNX4oXTsbmA",
        "colab_type": "code",
        "colab": {}
      },
      "source": [
        "tokenizer = Tokenizer(num_words=20000)\n",
        "tokenizer.fit_on_texts(sentences_train)"
      ],
      "execution_count": 0,
      "outputs": []
    },
    {
      "cell_type": "code",
      "metadata": {
        "id": "LrQYClzL-03v",
        "colab_type": "code",
        "colab": {}
      },
      "source": [
        "X_train = tokenizer.texts_to_sequences(sentences_train)\n",
        "X_test = tokenizer.texts_to_sequences(sentences_test)"
      ],
      "execution_count": 0,
      "outputs": []
    },
    {
      "cell_type": "code",
      "metadata": {
        "id": "jdiS8tiM_kQP",
        "colab_type": "code",
        "colab": {}
      },
      "source": [
        "vocab_size = len(tokenizer.word_index) + 1"
      ],
      "execution_count": 0,
      "outputs": []
    },
    {
      "cell_type": "code",
      "metadata": {
        "id": "V4-ItvcV_oca",
        "colab_type": "code",
        "outputId": "0fff4da9-2780-4ec3-9e55-bf74e3f54219",
        "colab": {
          "base_uri": "https://localhost:8080/",
          "height": 124
        }
      },
      "source": [
        "print(sentences_train[2])\n",
        "print(X_train[2])"
      ],
      "execution_count": 9,
      "outputs": [
        {
          "output_type": "stream",
          "text": [
            "Most Asian currencies were trading lower today. South Korean won was down 0.4%, China renminbi 0.23%, China Offshore 0.15%, Malaysian ringgit 0.12%, Indonesian rupiah 0.11%, Taiwan dollar 0.06%. However, Japanese yen was up 0.32%.\n",
            "\n",
            "\n",
            "The dollar index, which measures the US currency’s strength against major currencies, was trading at 97.26, down 0.14% from its previous close of 97.395.\n",
            "[94, 1239, 991, 67, 428, 448, 345, 317, 1251, 338, 24, 149, 108, 139, 218, 3864, 108, 729, 218, 4392, 108, 376, 3625, 3727, 108, 318, 2705, 3142, 108, 287, 3728, 253, 108, 2650, 141, 2197, 2161, 24, 36, 108, 1602, 1, 253, 442, 27, 1159, 1, 72, 2975, 1174, 104, 327, 991, 24, 428, 17, 2443, 745, 149, 108, 506, 16, 23, 457, 340, 4, 2443, 13029]\n"
          ],
          "name": "stdout"
        }
      ]
    },
    {
      "cell_type": "code",
      "metadata": {
        "id": "yHKjt-4p_zzu",
        "colab_type": "code",
        "colab": {}
      },
      "source": [
        "maxlen = 8000\n",
        "X_train = pad_sequences(X_train, padding='post', maxlen=maxlen)\n",
        "X_test = pad_sequences(X_test, padding='post', maxlen=maxlen)"
      ],
      "execution_count": 0,
      "outputs": []
    },
    {
      "cell_type": "code",
      "metadata": {
        "id": "-QXMq8K-D4IT",
        "colab_type": "code",
        "colab": {}
      },
      "source": [
        "y_train = to_categorical(y_train)"
      ],
      "execution_count": 0,
      "outputs": []
    },
    {
      "cell_type": "markdown",
      "metadata": {
        "id": "TYceeBwTCJhu",
        "colab_type": "text"
      },
      "source": [
        "# Model Training\n",
        "\n",
        "## Train word embedding during training\n"
      ]
    },
    {
      "cell_type": "code",
      "metadata": {
        "id": "FmktrpyzBnyE",
        "colab_type": "code",
        "colab": {}
      },
      "source": [
        "from keras.models import Sequential\n",
        "from keras import layers"
      ],
      "execution_count": 0,
      "outputs": []
    },
    {
      "cell_type": "code",
      "metadata": {
        "id": "WZ9KBQITCNjW",
        "colab_type": "code",
        "outputId": "cb2fd957-5f7e-4797-cf54-45825d795769",
        "colab": {
          "base_uri": "https://localhost:8080/",
          "height": 488
        }
      },
      "source": [
        "embedding_dim = 300\n",
        "\n",
        "first_model = Sequential()\n",
        "first_model.add(layers.Embedding(input_dim=vocab_size, \n",
        "                           output_dim=embedding_dim, \n",
        "                           input_length=maxlen))\n",
        "first_model.add(layers.GlobalMaxPool1D())\n",
        "first_model.add(layers.Dense(64, activation='relu'))\n",
        "first_model.add(layers.Dense(4, activation='softmax'))\n",
        "first_model.compile(optimizer='adam',\n",
        "              loss='categorical_crossentropy',\n",
        "              metrics=['accuracy'])\n",
        "first_model.summary()"
      ],
      "execution_count": 0,
      "outputs": [
        {
          "output_type": "stream",
          "text": [
            "WARNING:tensorflow:From /usr/local/lib/python3.6/dist-packages/keras/backend/tensorflow_backend.py:66: The name tf.get_default_graph is deprecated. Please use tf.compat.v1.get_default_graph instead.\n",
            "\n",
            "WARNING:tensorflow:From /usr/local/lib/python3.6/dist-packages/keras/backend/tensorflow_backend.py:541: The name tf.placeholder is deprecated. Please use tf.compat.v1.placeholder instead.\n",
            "\n",
            "WARNING:tensorflow:From /usr/local/lib/python3.6/dist-packages/keras/backend/tensorflow_backend.py:4432: The name tf.random_uniform is deprecated. Please use tf.random.uniform instead.\n",
            "\n",
            "WARNING:tensorflow:From /usr/local/lib/python3.6/dist-packages/keras/optimizers.py:793: The name tf.train.Optimizer is deprecated. Please use tf.compat.v1.train.Optimizer instead.\n",
            "\n",
            "WARNING:tensorflow:From /usr/local/lib/python3.6/dist-packages/keras/backend/tensorflow_backend.py:3576: The name tf.log is deprecated. Please use tf.math.log instead.\n",
            "\n",
            "Model: \"sequential_1\"\n",
            "_________________________________________________________________\n",
            "Layer (type)                 Output Shape              Param #   \n",
            "=================================================================\n",
            "embedding_1 (Embedding)      (None, 8000, 300)         11486100  \n",
            "_________________________________________________________________\n",
            "global_max_pooling1d_1 (Glob (None, 300)               0         \n",
            "_________________________________________________________________\n",
            "dense_1 (Dense)              (None, 64)                19264     \n",
            "_________________________________________________________________\n",
            "dense_2 (Dense)              (None, 4)                 260       \n",
            "=================================================================\n",
            "Total params: 11,505,624\n",
            "Trainable params: 11,505,624\n",
            "Non-trainable params: 0\n",
            "_________________________________________________________________\n"
          ],
          "name": "stdout"
        }
      ]
    },
    {
      "cell_type": "code",
      "metadata": {
        "id": "Ix14YoFqCs6c",
        "colab_type": "code",
        "outputId": "7b181e8e-ce3c-4659-abab-c29ab1808182",
        "colab": {
          "base_uri": "https://localhost:8080/",
          "height": 297
        }
      },
      "source": [
        "history1 = first_model.fit(X_train, y_train,\n",
        "                    epochs=5,\n",
        "                    verbose=2,\n",
        "                    batch_size=50)\n",
        "loss, accuracy = first_model.evaluate(X_train, y_train, verbose=False)"
      ],
      "execution_count": 0,
      "outputs": [
        {
          "output_type": "stream",
          "text": [
            "WARNING:tensorflow:From /usr/local/lib/python3.6/dist-packages/tensorflow/python/ops/math_grad.py:1250: add_dispatch_support.<locals>.wrapper (from tensorflow.python.ops.array_ops) is deprecated and will be removed in a future version.\n",
            "Instructions for updating:\n",
            "Use tf.where in 2.0, which has the same broadcast rule as np.where\n",
            "WARNING:tensorflow:From /usr/local/lib/python3.6/dist-packages/keras/backend/tensorflow_backend.py:1033: The name tf.assign_add is deprecated. Please use tf.compat.v1.assign_add instead.\n",
            "\n",
            "Epoch 1/5\n",
            " - 208s - loss: 0.9518 - acc: 0.6020\n",
            "Epoch 2/5\n",
            " - 208s - loss: 0.1230 - acc: 0.9744\n",
            "Epoch 3/5\n",
            " - 208s - loss: 0.0426 - acc: 0.9887\n",
            "Epoch 4/5\n",
            " - 207s - loss: 0.0198 - acc: 0.9942\n",
            "Epoch 5/5\n",
            " - 208s - loss: 0.0113 - acc: 0.9967\n"
          ],
          "name": "stdout"
        }
      ]
    },
    {
      "cell_type": "code",
      "metadata": {
        "id": "Tj0MwyZ7DZKK",
        "colab_type": "code",
        "colab": {}
      },
      "source": [
        "pred_train_embedding = first_model.predict_classes(X_test)"
      ],
      "execution_count": 0,
      "outputs": []
    },
    {
      "cell_type": "code",
      "metadata": {
        "id": "nVMJYsMONMPj",
        "colab_type": "code",
        "outputId": "14512ddf-15a9-4903-fc3d-2ffc95a2b0ee",
        "colab": {
          "base_uri": "https://localhost:8080/",
          "height": 202
        }
      },
      "source": [
        "df_result1 = pd.DataFrame({'SECTION':pred_train_embedding})\n",
        "df_result1.head()"
      ],
      "execution_count": 0,
      "outputs": [
        {
          "output_type": "execute_result",
          "data": {
            "text/html": [
              "<div>\n",
              "<style scoped>\n",
              "    .dataframe tbody tr th:only-of-type {\n",
              "        vertical-align: middle;\n",
              "    }\n",
              "\n",
              "    .dataframe tbody tr th {\n",
              "        vertical-align: top;\n",
              "    }\n",
              "\n",
              "    .dataframe thead th {\n",
              "        text-align: right;\n",
              "    }\n",
              "</style>\n",
              "<table border=\"1\" class=\"dataframe\">\n",
              "  <thead>\n",
              "    <tr style=\"text-align: right;\">\n",
              "      <th></th>\n",
              "      <th>SECTION</th>\n",
              "    </tr>\n",
              "  </thead>\n",
              "  <tbody>\n",
              "    <tr>\n",
              "      <th>0</th>\n",
              "      <td>1</td>\n",
              "    </tr>\n",
              "    <tr>\n",
              "      <th>1</th>\n",
              "      <td>2</td>\n",
              "    </tr>\n",
              "    <tr>\n",
              "      <th>2</th>\n",
              "      <td>1</td>\n",
              "    </tr>\n",
              "    <tr>\n",
              "      <th>3</th>\n",
              "      <td>1</td>\n",
              "    </tr>\n",
              "    <tr>\n",
              "      <th>4</th>\n",
              "      <td>1</td>\n",
              "    </tr>\n",
              "  </tbody>\n",
              "</table>\n",
              "</div>"
            ],
            "text/plain": [
              "   SECTION\n",
              "0        1\n",
              "1        2\n",
              "2        1\n",
              "3        1\n",
              "4        1"
            ]
          },
          "metadata": {
            "tags": []
          },
          "execution_count": 31
        }
      ]
    },
    {
      "cell_type": "code",
      "metadata": {
        "id": "M2gOQWfVN1A8",
        "colab_type": "code",
        "colab": {}
      },
      "source": [
        "df_result1.to_excel('Submission-WordEmbeddingTrainign.xlsx')"
      ],
      "execution_count": 0,
      "outputs": []
    },
    {
      "cell_type": "markdown",
      "metadata": {
        "id": "7Psb1SEfuAv6",
        "colab_type": "text"
      },
      "source": [
        "Accuracy: 0.97998544396 Rank: 49"
      ]
    },
    {
      "cell_type": "markdown",
      "metadata": {
        "id": "LujL72LpONbM",
        "colab_type": "text"
      },
      "source": [
        "## Using a Pretrained Word Embedding"
      ]
    },
    {
      "cell_type": "code",
      "metadata": {
        "id": "3keh2H1v2Bg9",
        "colab_type": "code",
        "outputId": "c62dec08-2018-4608-a2f9-6f62b33d97dd",
        "colab": {
          "base_uri": "https://localhost:8080/",
          "height": 364
        }
      },
      "source": [
        "!wget http://nlp.stanford.edu/data/glove.6B.zip"
      ],
      "execution_count": 16,
      "outputs": [
        {
          "output_type": "stream",
          "text": [
            "--2019-09-20 15:45:37--  http://nlp.stanford.edu/data/glove.6B.zip\n",
            "Resolving nlp.stanford.edu (nlp.stanford.edu)... 171.64.67.140\n",
            "Connecting to nlp.stanford.edu (nlp.stanford.edu)|171.64.67.140|:80... connected.\n",
            "HTTP request sent, awaiting response... 302 Found\n",
            "Location: https://nlp.stanford.edu/data/glove.6B.zip [following]\n",
            "--2019-09-20 15:45:37--  https://nlp.stanford.edu/data/glove.6B.zip\n",
            "Connecting to nlp.stanford.edu (nlp.stanford.edu)|171.64.67.140|:443... connected.\n",
            "HTTP request sent, awaiting response... 301 Moved Permanently\n",
            "Location: http://downloads.cs.stanford.edu/nlp/data/glove.6B.zip [following]\n",
            "--2019-09-20 15:45:37--  http://downloads.cs.stanford.edu/nlp/data/glove.6B.zip\n",
            "Resolving downloads.cs.stanford.edu (downloads.cs.stanford.edu)... 171.64.64.22\n",
            "Connecting to downloads.cs.stanford.edu (downloads.cs.stanford.edu)|171.64.64.22|:80... connected.\n",
            "HTTP request sent, awaiting response... 200 OK\n",
            "Length: 862182613 (822M) [application/zip]\n",
            "Saving to: ‘glove.6B.zip’\n",
            "\n",
            "glove.6B.zip        100%[===================>] 822.24M  75.1MB/s    in 12s     \n",
            "\n",
            "2019-09-20 15:45:50 (67.1 MB/s) - ‘glove.6B.zip’ saved [862182613/862182613]\n",
            "\n"
          ],
          "name": "stdout"
        }
      ]
    },
    {
      "cell_type": "code",
      "metadata": {
        "id": "FF3RzOC_2Mvf",
        "colab_type": "code",
        "outputId": "6ed29c47-0085-4797-bce1-96067680b70a",
        "colab": {
          "base_uri": "https://localhost:8080/",
          "height": 104
        }
      },
      "source": [
        "!unzip glove.6B.zip"
      ],
      "execution_count": 17,
      "outputs": [
        {
          "output_type": "stream",
          "text": [
            "Archive:  glove.6B.zip\n",
            "  inflating: glove.6B.50d.txt        \n",
            "  inflating: glove.6B.100d.txt       \n",
            "  inflating: glove.6B.200d.txt       \n",
            "  inflating: glove.6B.300d.txt       \n"
          ],
          "name": "stdout"
        }
      ]
    },
    {
      "cell_type": "code",
      "metadata": {
        "id": "iIJtdYADOBVG",
        "colab_type": "code",
        "colab": {}
      },
      "source": [
        "import numpy as np\n",
        "\n",
        "def create_embedding_matrix(filepath, word_index, embedding_dim):\n",
        "    vocab_size = len(word_index) + 1  # Adding again 1 because of reserved 0 index\n",
        "    embedding_matrix = np.zeros((vocab_size, embedding_dim))\n",
        "\n",
        "    with open(filepath) as f:\n",
        "        for line in f:\n",
        "            word, *vector = line.split()\n",
        "            if word in word_index:\n",
        "                idx = word_index[word] \n",
        "                embedding_matrix[idx] = np.array(\n",
        "                    vector, dtype=np.float32)[:embedding_dim]\n",
        "\n",
        "    return embedding_matrix"
      ],
      "execution_count": 0,
      "outputs": []
    },
    {
      "cell_type": "code",
      "metadata": {
        "id": "8EynjeNnOWAR",
        "colab_type": "code",
        "colab": {}
      },
      "source": [
        "embedding_dim = 300\n",
        "embedding_matrix = create_embedding_matrix ('glove.6B.300d.txt',tokenizer.word_index, embedding_dim)"
      ],
      "execution_count": 0,
      "outputs": []
    },
    {
      "cell_type": "code",
      "metadata": {
        "id": "XomOlt_SQvVT",
        "colab_type": "code",
        "outputId": "60d809b1-738e-4cb1-9490-a82b15b0f3e0",
        "colab": {
          "base_uri": "https://localhost:8080/",
          "height": 295
        }
      },
      "source": [
        "embedding_dim = 300\n",
        "\n",
        "second_model = Sequential()\n",
        "second_model.add(layers.Embedding(vocab_size, embedding_dim, \n",
        "                           weights=[embedding_matrix], \n",
        "                           input_length=maxlen, \n",
        "                           trainable=True))\n",
        "second_model.add(layers.GlobalMaxPool1D())\n",
        "second_model.add(layers.Dense(64, activation='relu'))\n",
        "second_model.add(layers.Dense(4, activation='softmax'))\n",
        "second_model.compile(optimizer='adam',\n",
        "              loss='categorical_crossentropy',\n",
        "              metrics=['accuracy'])\n",
        "second_model.summary()"
      ],
      "execution_count": 0,
      "outputs": [
        {
          "output_type": "stream",
          "text": [
            "Model: \"sequential_2\"\n",
            "_________________________________________________________________\n",
            "Layer (type)                 Output Shape              Param #   \n",
            "=================================================================\n",
            "embedding_2 (Embedding)      (None, 8000, 300)         11486100  \n",
            "_________________________________________________________________\n",
            "global_max_pooling1d_2 (Glob (None, 300)               0         \n",
            "_________________________________________________________________\n",
            "dense_3 (Dense)              (None, 64)                19264     \n",
            "_________________________________________________________________\n",
            "dense_4 (Dense)              (None, 4)                 260       \n",
            "=================================================================\n",
            "Total params: 11,505,624\n",
            "Trainable params: 11,505,624\n",
            "Non-trainable params: 0\n",
            "_________________________________________________________________\n"
          ],
          "name": "stdout"
        }
      ]
    },
    {
      "cell_type": "code",
      "metadata": {
        "id": "0fyMSmaRQUmP",
        "colab_type": "code",
        "outputId": "e8d8d5f5-6aef-41a5-ce3f-667848a37852",
        "colab": {
          "base_uri": "https://localhost:8080/",
          "height": 191
        }
      },
      "source": [
        "history2 = second_model.fit(X_train, y_train,\n",
        "                    epochs=5,\n",
        "                    verbose=2,\n",
        "                    batch_size=50)\n",
        "loss, accuracy = second_model.evaluate(X_train, y_train, verbose=False)"
      ],
      "execution_count": 0,
      "outputs": [
        {
          "output_type": "stream",
          "text": [
            "Epoch 1/5\n",
            " - 203s - loss: 0.8114 - acc: 0.7465\n",
            "Epoch 2/5\n",
            " - 202s - loss: 0.2355 - acc: 0.9491\n",
            "Epoch 3/5\n",
            " - 203s - loss: 0.1152 - acc: 0.9725\n",
            "Epoch 4/5\n",
            " - 202s - loss: 0.0721 - acc: 0.9831\n",
            "Epoch 5/5\n",
            " - 202s - loss: 0.0489 - acc: 0.9887\n"
          ],
          "name": "stdout"
        }
      ]
    },
    {
      "cell_type": "code",
      "metadata": {
        "id": "mkQjRY1g21wj",
        "colab_type": "code",
        "colab": {}
      },
      "source": [
        "pred_pre_embedding = second_model.predict_classes(X_test)\n",
        "df_result2 = pd.DataFrame({'SECTION':pred_pre_embedding})\n",
        "df_result2.to_excel('Submission-WordEmbeddingPre.xlsx')"
      ],
      "execution_count": 0,
      "outputs": []
    },
    {
      "cell_type": "markdown",
      "metadata": {
        "id": "Svg1WWVO8sRx",
        "colab_type": "text"
      },
      "source": [
        "Result: 0.97052 Rank: 48"
      ]
    },
    {
      "cell_type": "code",
      "metadata": {
        "id": "HldmL3WmYRAa",
        "colab_type": "code",
        "outputId": "681e814f-80c3-4c08-8682-39605970b5af",
        "colab": {
          "base_uri": "https://localhost:8080/",
          "height": 295
        }
      },
      "source": [
        "embedding_dim = 300\n",
        "\n",
        "third_model = Sequential()\n",
        "third_model.add(layers.Embedding(vocab_size, embedding_dim, \n",
        "                           weights=[embedding_matrix], \n",
        "                           input_length=maxlen, \n",
        "                           trainable=False))\n",
        "third_model.add(layers.GlobalMaxPool1D())\n",
        "third_model.add(layers.Dense(64, activation='relu'))\n",
        "third_model.add(layers.Dense(4, activation='softmax'))\n",
        "third_model.compile(optimizer='adam',\n",
        "              loss='categorical_crossentropy',\n",
        "              metrics=['accuracy'])\n",
        "third_model.summary()"
      ],
      "execution_count": 0,
      "outputs": [
        {
          "output_type": "stream",
          "text": [
            "Model: \"sequential_3\"\n",
            "_________________________________________________________________\n",
            "Layer (type)                 Output Shape              Param #   \n",
            "=================================================================\n",
            "embedding_3 (Embedding)      (None, 8000, 300)         11486100  \n",
            "_________________________________________________________________\n",
            "global_max_pooling1d_3 (Glob (None, 300)               0         \n",
            "_________________________________________________________________\n",
            "dense_5 (Dense)              (None, 64)                19264     \n",
            "_________________________________________________________________\n",
            "dense_6 (Dense)              (None, 4)                 260       \n",
            "=================================================================\n",
            "Total params: 11,505,624\n",
            "Trainable params: 19,524\n",
            "Non-trainable params: 11,486,100\n",
            "_________________________________________________________________\n"
          ],
          "name": "stdout"
        }
      ]
    },
    {
      "cell_type": "code",
      "metadata": {
        "id": "xYNV0JHdYkqZ",
        "colab_type": "code",
        "outputId": "26794f03-f684-4dc1-ef45-8647a2c8c6a4",
        "colab": {
          "base_uri": "https://localhost:8080/",
          "height": 364
        }
      },
      "source": [
        "history3 = third_model.fit(X_train, y_train,\n",
        "                    epochs=10,\n",
        "                    verbose=2,\n",
        "                    batch_size=50)\n",
        "loss, accuracy = third_model.evaluate(X_train, y_train, verbose=False)"
      ],
      "execution_count": 0,
      "outputs": [
        {
          "output_type": "stream",
          "text": [
            "Epoch 1/10\n",
            " - 38s - loss: 0.1885 - acc: 0.9380\n",
            "Epoch 2/10\n",
            " - 38s - loss: 0.1736 - acc: 0.9421\n",
            "Epoch 3/10\n",
            " - 38s - loss: 0.1650 - acc: 0.9465\n",
            "Epoch 4/10\n",
            " - 39s - loss: 0.1570 - acc: 0.9477\n",
            "Epoch 5/10\n",
            " - 38s - loss: 0.1517 - acc: 0.9478\n",
            "Epoch 6/10\n",
            " - 38s - loss: 0.1489 - acc: 0.9507\n",
            "Epoch 7/10\n",
            " - 38s - loss: 0.1477 - acc: 0.9510\n",
            "Epoch 8/10\n",
            " - 38s - loss: 0.1498 - acc: 0.9494\n",
            "Epoch 9/10\n",
            " - 39s - loss: 0.1376 - acc: 0.9532\n",
            "Epoch 10/10\n",
            " - 38s - loss: 0.1366 - acc: 0.9544\n"
          ],
          "name": "stdout"
        }
      ]
    },
    {
      "cell_type": "code",
      "metadata": {
        "id": "3ve690UUad0U",
        "colab_type": "code",
        "colab": {}
      },
      "source": [
        "pred_pre_embedding_no = third_model.predict_classes(X_test)\n",
        "df_result3 = pd.DataFrame({'SECTION':pred_pre_embedding_no})\n",
        "df_result3.to_excel('Submission-WordEmbeddingPreNo.xlsx')"
      ],
      "execution_count": 0,
      "outputs": []
    },
    {
      "cell_type": "markdown",
      "metadata": {
        "id": "Owhr7i05dtN8",
        "colab_type": "text"
      },
      "source": [
        "Result: 0.95305677"
      ]
    },
    {
      "cell_type": "markdown",
      "metadata": {
        "id": "ZMRveBQg80SN",
        "colab_type": "text"
      },
      "source": [
        "# Word Embedding + CNN"
      ]
    },
    {
      "cell_type": "code",
      "metadata": {
        "id": "HXxQMh9M7AbI",
        "colab_type": "code",
        "outputId": "1bcde60b-48d5-47a3-defc-44751b29c3fe",
        "colab": {
          "base_uri": "https://localhost:8080/",
          "height": 364
        }
      },
      "source": [
        "embedding_dim = 300\n",
        "\n",
        "cnn_model = Sequential()\n",
        "cnn_model.add(layers.Embedding(input_dim=vocab_size, \n",
        "                           output_dim=embedding_dim, \n",
        "                           input_length=maxlen))\n",
        "cnn_model.add(layers.Conv1D(128, 5, activation='relu'))\n",
        "cnn_model.add(layers.GlobalMaxPool1D())\n",
        "cnn_model.add(layers.Dropout(0.1))\n",
        "cnn_model.add(layers.Dense(64, activation='relu'))\n",
        "cnn_model.add(layers.Dense(4, activation='softmax'))\n",
        "\n",
        "cnn_model.compile(optimizer='adam',\n",
        "              loss='categorical_crossentropy',\n",
        "              metrics=['accuracy'])\n",
        "cnn_model.summary()"
      ],
      "execution_count": 0,
      "outputs": [
        {
          "output_type": "stream",
          "text": [
            "Model: \"sequential_7\"\n",
            "_________________________________________________________________\n",
            "Layer (type)                 Output Shape              Param #   \n",
            "=================================================================\n",
            "embedding_7 (Embedding)      (None, 8000, 300)         11486100  \n",
            "_________________________________________________________________\n",
            "conv1d_11 (Conv1D)           (None, 7996, 128)         192128    \n",
            "_________________________________________________________________\n",
            "global_max_pooling1d_5 (Glob (None, 128)               0         \n",
            "_________________________________________________________________\n",
            "dropout_8 (Dropout)          (None, 128)               0         \n",
            "_________________________________________________________________\n",
            "dense_7 (Dense)              (None, 64)                8256      \n",
            "_________________________________________________________________\n",
            "dense_8 (Dense)              (None, 4)                 260       \n",
            "=================================================================\n",
            "Total params: 11,686,744\n",
            "Trainable params: 11,686,744\n",
            "Non-trainable params: 0\n",
            "_________________________________________________________________\n"
          ],
          "name": "stdout"
        }
      ]
    },
    {
      "cell_type": "code",
      "metadata": {
        "id": "8kjYmYMo9jF8",
        "colab_type": "code",
        "outputId": "22e83ed6-94a7-41f3-d31f-0978470aa7a6",
        "colab": {
          "base_uri": "https://localhost:8080/",
          "height": 191
        }
      },
      "source": [
        "history3 = cnn_model.fit(X_train, y_train,\n",
        "                    epochs=5,\n",
        "                    verbose=2,\n",
        "                    batch_size=50)\n",
        "loss, accuracy = cnn_model.evaluate(X_train, y_train, verbose=False)"
      ],
      "execution_count": 0,
      "outputs": [
        {
          "output_type": "stream",
          "text": [
            "Epoch 1/5\n",
            " - 1662s - loss: 0.5986 - acc: 0.7672\n",
            "Epoch 2/5\n",
            " - 1532s - loss: 0.0624 - acc: 0.9822\n",
            "Epoch 3/5\n",
            " - 1537s - loss: 0.0140 - acc: 0.9963\n",
            "Epoch 4/5\n",
            " - 1534s - loss: 0.0088 - acc: 0.9971\n",
            "Epoch 5/5\n",
            " - 1532s - loss: 0.0066 - acc: 0.9975\n"
          ],
          "name": "stdout"
        }
      ]
    },
    {
      "cell_type": "code",
      "metadata": {
        "id": "sMudlXy49zq_",
        "colab_type": "code",
        "colab": {}
      },
      "source": [
        "pred_cnn = cnn_model.predict_classes(X_test)\n",
        "df_result3 = pd.DataFrame({'SECTION':pred_cnn})\n",
        "df_result3.to_excel('Submission-WordEmbeddingCNN.xlsx')"
      ],
      "execution_count": 0,
      "outputs": []
    },
    {
      "cell_type": "markdown",
      "metadata": {
        "id": "DlxdceI1tt5-",
        "colab_type": "text"
      },
      "source": [
        "Result: 0.97161572 Rank:48"
      ]
    },
    {
      "cell_type": "markdown",
      "metadata": {
        "id": "Ddr8Gv-TiMcu",
        "colab_type": "text"
      },
      "source": [
        "# Hyper parameter Optimization"
      ]
    },
    {
      "cell_type": "code",
      "metadata": {
        "id": "Pg5vPA2HuRdH",
        "colab_type": "code",
        "colab": {}
      },
      "source": [
        "y_train = df_train['SECTION'].values"
      ],
      "execution_count": 0,
      "outputs": []
    },
    {
      "cell_type": "code",
      "metadata": {
        "id": "AWbO7IfZn0s8",
        "colab_type": "code",
        "colab": {}
      },
      "source": [
        "def create_model(num_filters, kernel_size, vocab_size, embedding_dim, maxlen):\n",
        "  embedding_dim = 300\n",
        "  cnn_model = Sequential()\n",
        "  cnn_model.add(layers.Embedding(vocab_size, embedding_dim, \n",
        "                           weights=[embedding_matrix], \n",
        "                           input_length=maxlen, \n",
        "                           trainable=False))\n",
        "  cnn_model.add(layers.Conv1D(num_filters, kernel_size, activation='relu'))\n",
        "  cnn_model.add(layers.GlobalMaxPool1D())\n",
        "  cnn_model.add(layers.Dropout(0.1))\n",
        "  cnn_model.add(layers.Dense(64, activation='relu'))\n",
        "  cnn_model.add(layers.Dense(4, activation='softmax'))\n",
        "\n",
        "  cnn_model.compile(optimizer='adam',\n",
        "                loss='categorical_crossentropy',\n",
        "                metrics=['accuracy'])\n",
        "  return cnn_model"
      ],
      "execution_count": 0,
      "outputs": []
    },
    {
      "cell_type": "code",
      "metadata": {
        "id": "3_A2J8P2iv18",
        "colab_type": "code",
        "colab": {}
      },
      "source": [
        "from keras.wrappers.scikit_learn import KerasClassifier\n",
        "from sklearn.model_selection import RandomizedSearchCV"
      ],
      "execution_count": 0,
      "outputs": []
    },
    {
      "cell_type": "code",
      "metadata": {
        "id": "ULuGRt1mi3UT",
        "colab_type": "code",
        "outputId": "8df1fcee-1de0-4e71-977e-e44046e7a8bd",
        "colab": {
          "base_uri": "https://localhost:8080/",
          "height": 1000
        }
      },
      "source": [
        "embedding_dim = 300\n",
        "param_grid = dict(num_filters=[64, 128],\n",
        "                      kernel_size=[5, 7],\n",
        "                      vocab_size=[vocab_size],\n",
        "                      embedding_dim=[embedding_dim],\n",
        "                      maxlen=[maxlen])\n",
        "model_cnn= KerasClassifier(build_fn=create_model,\n",
        "                            epochs=4, batch_size=50,\n",
        "                            verbose=2)\n",
        "grid = GridSearchCV(estimator=model_cnn, param_grid=param_grid,\n",
        "                              cv=3, verbose=1,scoring = 'accuracy')\n",
        "grid_result = grid.fit(X_train, y_train)"
      ],
      "execution_count": 26,
      "outputs": [
        {
          "output_type": "stream",
          "text": [
            "Fitting 3 folds for each of 4 candidates, totalling 12 fits\n",
            "WARNING:tensorflow:From /usr/local/lib/python3.6/dist-packages/keras/backend/tensorflow_backend.py:541: The name tf.placeholder is deprecated. Please use tf.compat.v1.placeholder instead.\n",
            "\n",
            "WARNING:tensorflow:From /usr/local/lib/python3.6/dist-packages/keras/backend/tensorflow_backend.py:4432: The name tf.random_uniform is deprecated. Please use tf.random.uniform instead.\n",
            "\n",
            "WARNING:tensorflow:From /usr/local/lib/python3.6/dist-packages/keras/backend/tensorflow_backend.py:190: The name tf.get_default_session is deprecated. Please use tf.compat.v1.get_default_session instead.\n",
            "\n",
            "WARNING:tensorflow:From /usr/local/lib/python3.6/dist-packages/keras/backend/tensorflow_backend.py:197: The name tf.ConfigProto is deprecated. Please use tf.compat.v1.ConfigProto instead.\n",
            "\n"
          ],
          "name": "stdout"
        },
        {
          "output_type": "stream",
          "text": [
            "[Parallel(n_jobs=1)]: Using backend SequentialBackend with 1 concurrent workers.\n"
          ],
          "name": "stderr"
        },
        {
          "output_type": "stream",
          "text": [
            "WARNING:tensorflow:From /usr/local/lib/python3.6/dist-packages/keras/backend/tensorflow_backend.py:3733: calling dropout (from tensorflow.python.ops.nn_ops) with keep_prob is deprecated and will be removed in a future version.\n",
            "Instructions for updating:\n",
            "Please use `rate` instead of `keep_prob`. Rate should be set to `rate = 1 - keep_prob`.\n",
            "WARNING:tensorflow:From /usr/local/lib/python3.6/dist-packages/keras/optimizers.py:793: The name tf.train.Optimizer is deprecated. Please use tf.compat.v1.train.Optimizer instead.\n",
            "\n",
            "WARNING:tensorflow:From /usr/local/lib/python3.6/dist-packages/tensorflow/python/ops/math_grad.py:1250: add_dispatch_support.<locals>.wrapper (from tensorflow.python.ops.array_ops) is deprecated and will be removed in a future version.\n",
            "Instructions for updating:\n",
            "Use tf.where in 2.0, which has the same broadcast rule as np.where\n",
            "Epoch 1/4\n",
            " - 445s - loss: 0.4339 - acc: 0.8531\n",
            "Epoch 2/4\n",
            " - 443s - loss: 0.1098 - acc: 0.9677\n",
            "Epoch 3/4\n",
            " - 444s - loss: 0.0582 - acc: 0.9831\n",
            "Epoch 4/4\n",
            " - 443s - loss: 0.0336 - acc: 0.9917\n",
            "Epoch 1/4\n",
            " - 424s - loss: 0.4545 - acc: 0.8450\n",
            "Epoch 2/4\n",
            " - 422s - loss: 0.1219 - acc: 0.9607\n",
            "Epoch 3/4\n",
            " - 424s - loss: 0.0574 - acc: 0.9841\n",
            "Epoch 4/4\n",
            " - 423s - loss: 0.0362 - acc: 0.9906\n",
            "Epoch 1/4\n",
            " - 424s - loss: 0.4738 - acc: 0.8344\n",
            "Epoch 2/4\n",
            " - 423s - loss: 0.1279 - acc: 0.9626\n",
            "Epoch 3/4\n",
            " - 423s - loss: 0.0732 - acc: 0.9797\n",
            "Epoch 4/4\n",
            " - 423s - loss: 0.0398 - acc: 0.9896\n",
            "Epoch 1/4\n",
            " - 661s - loss: 0.3673 - acc: 0.8747\n",
            "Epoch 2/4\n",
            " - 661s - loss: 0.0895 - acc: 0.9719\n",
            "Epoch 3/4\n",
            " - 661s - loss: 0.0354 - acc: 0.9912\n",
            "Epoch 4/4\n",
            " - 660s - loss: 0.0198 - acc: 0.9949\n",
            "Epoch 1/4\n",
            " - 662s - loss: 0.3457 - acc: 0.8859\n",
            "Epoch 2/4\n",
            " - 662s - loss: 0.0800 - acc: 0.9762\n",
            "Epoch 3/4\n",
            " - 662s - loss: 0.0339 - acc: 0.9919\n",
            "Epoch 4/4\n",
            " - 662s - loss: 0.0212 - acc: 0.9959\n",
            "Epoch 1/4\n",
            " - 663s - loss: 0.3906 - acc: 0.8635\n",
            "Epoch 2/4\n",
            " - 661s - loss: 0.0966 - acc: 0.9683\n",
            "Epoch 3/4\n",
            " - 661s - loss: 0.0417 - acc: 0.9890\n",
            "Epoch 4/4\n",
            " - 661s - loss: 0.0235 - acc: 0.9949\n",
            "Epoch 1/4\n",
            " - 601s - loss: 0.3500 - acc: 0.8885\n",
            "Epoch 2/4\n",
            " - 601s - loss: 0.0921 - acc: 0.9705\n",
            "Epoch 3/4\n",
            " - 601s - loss: 0.0423 - acc: 0.9884\n",
            "Epoch 4/4\n",
            " - 601s - loss: 0.0210 - acc: 0.9943\n",
            "Epoch 1/4\n",
            " - 602s - loss: 0.3758 - acc: 0.8773\n",
            "Epoch 2/4\n",
            " - 600s - loss: 0.0998 - acc: 0.9693\n",
            "Epoch 3/4\n",
            " - 600s - loss: 0.0412 - acc: 0.9894\n",
            "Epoch 4/4\n",
            " - 599s - loss: 0.0237 - acc: 0.9937\n",
            "Epoch 1/4\n",
            " - 583s - loss: 0.4234 - acc: 0.8590\n",
            "Epoch 2/4\n",
            " - 581s - loss: 0.1108 - acc: 0.9672\n",
            "Epoch 3/4\n",
            " - 580s - loss: 0.0558 - acc: 0.9851\n",
            "Epoch 4/4\n",
            " - 581s - loss: 0.0282 - acc: 0.9925\n",
            "Epoch 1/4\n",
            " - 924s - loss: 0.3040 - acc: 0.8987\n",
            "Epoch 2/4\n",
            " - 923s - loss: 0.0692 - acc: 0.9813\n",
            "Epoch 3/4\n",
            " - 921s - loss: 0.0258 - acc: 0.9933\n",
            "Epoch 4/4\n",
            " - 922s - loss: 0.0151 - acc: 0.9967\n",
            "Epoch 1/4\n",
            " - 928s - loss: 0.3222 - acc: 0.8926\n",
            "Epoch 2/4\n",
            " - 925s - loss: 0.0699 - acc: 0.9829\n",
            "Epoch 3/4\n",
            " - 923s - loss: 0.0248 - acc: 0.9945\n",
            "Epoch 4/4\n",
            " - 922s - loss: 0.0171 - acc: 0.9965\n",
            "Epoch 1/4\n",
            " - 906s - loss: 0.3308 - acc: 0.8903\n",
            "Epoch 2/4\n",
            " - 902s - loss: 0.0799 - acc: 0.9772\n",
            "Epoch 3/4\n",
            " - 901s - loss: 0.0287 - acc: 0.9931\n",
            "Epoch 4/4\n",
            " - 902s - loss: 0.0215 - acc: 0.9939\n"
          ],
          "name": "stdout"
        },
        {
          "output_type": "stream",
          "text": [
            "[Parallel(n_jobs=1)]: Done  12 out of  12 | elapsed: 546.1min finished\n"
          ],
          "name": "stderr"
        },
        {
          "output_type": "stream",
          "text": [
            "Epoch 1/4\n",
            " - 990s - loss: 0.2877 - acc: 0.9014\n",
            "Epoch 2/4\n",
            " - 990s - loss: 0.0789 - acc: 0.9747\n",
            "Epoch 3/4\n",
            " - 989s - loss: 0.0299 - acc: 0.9924\n",
            "Epoch 4/4\n",
            " - 991s - loss: 0.0189 - acc: 0.9953\n"
          ],
          "name": "stdout"
        }
      ]
    },
    {
      "cell_type": "code",
      "metadata": {
        "id": "NuXEKznWjUxt",
        "colab_type": "code",
        "colab": {
          "base_uri": "https://localhost:8080/",
          "height": 104
        },
        "outputId": "2bb6e2d5-0e8c-45b8-a13c-bd8630d2ea70"
      },
      "source": [
        "grid_result.best_params_"
      ],
      "execution_count": 27,
      "outputs": [
        {
          "output_type": "execute_result",
          "data": {
            "text/plain": [
              "{'embedding_dim': 300,\n",
              " 'kernel_size': 5,\n",
              " 'maxlen': 8000,\n",
              " 'num_filters': 128,\n",
              " 'vocab_size': 38287}"
            ]
          },
          "metadata": {
            "tags": []
          },
          "execution_count": 27
        }
      ]
    },
    {
      "cell_type": "code",
      "metadata": {
        "id": "pg3a8Xu0rtmC",
        "colab_type": "code",
        "colab": {
          "base_uri": "https://localhost:8080/",
          "height": 35
        },
        "outputId": "18db0b46-3840-4924-af1e-12abba913447"
      },
      "source": [
        "grid_result.best_score_"
      ],
      "execution_count": 28,
      "outputs": [
        {
          "output_type": "execute_result",
          "data": {
            "text/plain": [
              "0.9619821709491347"
            ]
          },
          "metadata": {
            "tags": []
          },
          "execution_count": 28
        }
      ]
    },
    {
      "cell_type": "code",
      "metadata": {
        "id": "xs7CT8FAr7wy",
        "colab_type": "code",
        "colab": {}
      },
      "source": [
        ""
      ],
      "execution_count": 0,
      "outputs": []
    }
  ]
}